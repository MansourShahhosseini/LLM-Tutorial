{
 "cells": [
  {
   "cell_type": "markdown",
   "id": "9e5d6065-bee6-454c-afa4-9390d247e020",
   "metadata": {},
   "source": [
    "### Ollama\n",
    "* Please first download **Ollama** from: https://ollama.com/download and install the app\n",
    "* There are many open source models you can use; here are some: https://github.com/ollama/ollama\n",
    "* For now, lets focus on two models:\n",
    "  1) **llama3.2**\n",
    "  2) **llama3.2-vision**\n",
    "* To use these models first you need to $pull$ them, to do so please run the following code in your terminal:\n",
    "  * **ollama pull **$your \\ model \\ name$****\n",
    "\n",
    "\n",
    "#### Let's see what we can do with Ollama and llama3.2  \n"
   ]
  },
  {
   "cell_type": "code",
   "execution_count": 1,
   "id": "5bc9a553-027b-483d-b909-98bad543cf5b",
   "metadata": {},
   "outputs": [],
   "source": [
    "import ollama\n",
    "import os\n",
    "import matplotlib.pyplot as plt\n",
    "import pandas as pd\n",
    "import numpy as np\n",
    "import warnings\n",
    "warnings.filterwarnings('ignore')\n",
    "# os.environ[\"OLLAMA_CUDA\"] = \"1\" \n",
    "# os.environ[\"OLLAMA_FLASH_ATTENTION\"] = \"1\" \n",
    "# os.environ[\"OLLAMA_LLAMA_EXTRA_ARGS\"] = \"--flash-attn\""
   ]
  },
  {
   "cell_type": "code",
   "execution_count": 2,
   "id": "17b571e4",
   "metadata": {},
   "outputs": [
    {
     "name": "stderr",
     "output_type": "stream",
     "text": [
      "\u001b[?25lpulling manifest â ‹ \u001b[?25h\u001b[?25l\u001b[2K\u001b[1Gpulling manifest â ™ \u001b[?25h\u001b[?25l\u001b[2K\u001b[1Gpulling manifest â ¹ \u001b[?25h\u001b[?25l\u001b[2K\u001b[1Gpulling manifest â ¸ \u001b[?25h\u001b[?25l\u001b[2K\u001b[1Gpulling manifest â ¼ \u001b[?25h\u001b[?25l\u001b[2K\u001b[1Gpulling manifest â ´ \u001b[?25h\u001b[?25l\u001b[2K\u001b[1Gpulling manifest â ¦ \u001b[?25h\u001b[?25l\u001b[2K\u001b[1Gpulling manifest \n",
      "pulling dde5aa3fc5ff... 100% â–•â–ˆâ–ˆâ–ˆâ–ˆâ–ˆâ–ˆâ–ˆâ–ˆâ–ˆâ–ˆâ–ˆâ–ˆâ–ˆâ–ˆâ–ˆâ–ˆâ–� 2.0 GB                         \n",
      "pulling 966de95ca8a6... 100% â–•â–ˆâ–ˆâ–ˆâ–ˆâ–ˆâ–ˆâ–ˆâ–ˆâ–ˆâ–ˆâ–ˆâ–ˆâ–ˆâ–ˆâ–ˆâ–ˆâ–� 1.4 KB                         \n",
      "pulling fcc5a6bec9da... 100% â–•â–ˆâ–ˆâ–ˆâ–ˆâ–ˆâ–ˆâ–ˆâ–ˆâ–ˆâ–ˆâ–ˆâ–ˆâ–ˆâ–ˆâ–ˆâ–ˆâ–� 7.7 KB                         \n",
      "pulling a70ff7e570d9... 100% â–•â–ˆâ–ˆâ–ˆâ–ˆâ–ˆâ–ˆâ–ˆâ–ˆâ–ˆâ–ˆâ–ˆâ–ˆâ–ˆâ–ˆâ–ˆâ–ˆâ–� 6.0 KB                         \n",
      "pulling 56bb8bd477a5... 100% â–•â–ˆâ–ˆâ–ˆâ–ˆâ–ˆâ–ˆâ–ˆâ–ˆâ–ˆâ–ˆâ–ˆâ–ˆâ–ˆâ–ˆâ–ˆâ–ˆâ–�   96 B                         \n",
      "pulling 34bb5ab01051... 100% â–•â–ˆâ–ˆâ–ˆâ–ˆâ–ˆâ–ˆâ–ˆâ–ˆâ–ˆâ–ˆâ–ˆâ–ˆâ–ˆâ–ˆâ–ˆâ–ˆâ–�  561 B                         \n",
      "verifying sha256 digest \n",
      "writing manifest \n",
      "success \u001b[?25h\n"
     ]
    }
   ],
   "source": [
    "!ollama pull llama3.2:3b"
   ]
  },
  {
   "cell_type": "markdown",
   "id": "6055665e-7e75-4e8b-82a3-e00f41819d0d",
   "metadata": {},
   "source": [
    "### Let's create a chat function so we can talk to our new friend. For ending your conversation just write \"bye llm\""
   ]
  },
  {
   "cell_type": "code",
   "execution_count": 2,
   "id": "8eeae81e-d1ce-4001-a78e-22bf2584e736",
   "metadata": {},
   "outputs": [],
   "source": [
    "def chat():\n",
    "    conversation_history = []\n",
    "    bye = True\n",
    "    while bye:\n",
    "        prompt = input()\n",
    "        conversation_history.append({'role':'user','content':prompt}) \n",
    "        response = ollama.chat(\n",
    "        model='llama3.2:3b',\n",
    "        messages=conversation_history,\n",
    "        options = {'temperature':1, 'num_predict':1024})\n",
    "        res = response['message']['content']\n",
    "        print('')\n",
    "        print(f'Assistant:\\n{res}')\n",
    "        conversation_history.append({'role':'assistant','content':res})\n",
    "        print('============================================================================================================================')\n",
    "        if prompt == 'bye llm':\n",
    "            bye=False"
   ]
  },
  {
   "cell_type": "code",
   "execution_count": 3,
   "id": "cf9e1efd-6ec0-4ec3-aea9-b8032e64fe61",
   "metadata": {},
   "outputs": [
    {
     "name": "stdout",
     "output_type": "stream",
     "text": [
      " hi\n"
     ]
    },
    {
     "name": "stdout",
     "output_type": "stream",
     "text": [
      "\n",
      "Assistant:\n",
      "How can I assist you today?\n",
      "============================================================================================================================\n"
     ]
    },
    {
     "name": "stdout",
     "output_type": "stream",
     "text": [
      " my name is mansour\n"
     ]
    },
    {
     "name": "stdout",
     "output_type": "stream",
     "text": [
      "\n",
      "Assistant:\n",
      "Hello Mansour! It's nice to meet you. Is there something I can help you with or would you like to chat for a bit?\n",
      "============================================================================================================================\n"
     ]
    },
    {
     "name": "stdout",
     "output_type": "stream",
     "text": [
      " what was my name?\n"
     ]
    },
    {
     "name": "stdout",
     "output_type": "stream",
     "text": [
      "\n",
      "Assistant:\n",
      "You mentioned it earlier, your name is Mansour. We started our conversation with that introduction.\n",
      "============================================================================================================================\n"
     ]
    },
    {
     "name": "stdout",
     "output_type": "stream",
     "text": [
      " why marketing is interesting?\n"
     ]
    },
    {
     "name": "stdout",
     "output_type": "stream",
     "text": [
      "\n",
      "Assistant:\n",
      "Mansour, marketing can be interesting for several reasons:\n",
      "\n",
      "1. **It's a constantly evolving field**: New technologies, trends, and consumer behaviors are emerging all the time, which means marketers have to stay up-to-date and adapt their strategies to keep pace.\n",
      "\n",
      "2. **It involves creative problem-solving**: Marketing requires finding innovative ways to communicate with customers, build brand awareness, and drive sales. It's a challenge that combines art and science.\n",
      "\n",
      "3. **It has a direct impact on businesses and people's lives**: Marketing can make or break a business, and it can also influence how we think about products, services, and ideas. It's a powerful tool for shaping public opinion and driving social change.\n",
      "\n",
      "4. **There are many different types of marketing**: From digital marketing to event marketing, from social media to content marketing, there are countless ways to approach the field. This variety keeps things interesting and allows marketers to find their niche.\n",
      "\n",
      "5. **Marketing is a people business**: It's about understanding human behavior, building relationships, and connecting with others. If you enjoy working with people and understanding their needs, marketing might be an engaging field for you.\n",
      "\n",
      "6. **It has a global impact**: Marketing affects businesses and consumers worldwide, making it a fascinating area to explore and learn about different cultures and markets.\n",
      "\n",
      "What do you think? Are any of these reasons interesting to you, Mansour?\n",
      "============================================================================================================================\n"
     ]
    },
    {
     "name": "stdout",
     "output_type": "stream",
     "text": [
      " bye llm\n"
     ]
    },
    {
     "name": "stdout",
     "output_type": "stream",
     "text": [
      "\n",
      "Assistant:\n",
      "It was nice chatting with you, Mansour! Have a great day and feel free to come back if you have any more questions or just want to say hello. Bye for now!\n",
      "============================================================================================================================\n"
     ]
    }
   ],
   "source": [
    "chat()"
   ]
  },
  {
   "cell_type": "markdown",
   "id": "c684c954-b9a3-4231-85a1-d030b9d30687",
   "metadata": {},
   "source": [
    "#### Now lets summarize a text"
   ]
  },
  {
   "cell_type": "code",
   "execution_count": 4,
   "id": "e9c25e2a-5f69-416c-aac2-eee1fb360240",
   "metadata": {},
   "outputs": [],
   "source": [
    "from urllib.request import urlopen\n",
    "from bs4 import BeautifulSoup\n",
    "import re\n",
    "source = urlopen('https://en.wikipedia.org/wiki/2024_United_States_presidential_election').read()\n",
    "soup = BeautifulSoup(source,'lxml')\n",
    "paras = []\n",
    "for paragraph in soup.find_all('p'):\n",
    "    paras.append(str(paragraph.text))\n",
    "text = [tx.strip() for tx in paras if len(tx)>3]\n",
    "text = ' '.join(text)\n",
    "text = re.sub(r\"\\[.*?\\]+\", '', text)\n",
    "text = text.replace(u'\\xa0', u' ')"
   ]
  },
  {
   "cell_type": "code",
   "execution_count": 5,
   "id": "17d2f8b2-40b6-4719-b399-9743d113ad3d",
   "metadata": {},
   "outputs": [
    {
     "data": {
      "text/plain": [
       "'Joe Biden\\nDemocratic Donald Trump\\nRepublican Presidential elections were held in the United States on November 5, 2024. The Republican Party\\'s ticket—Donald Trump, who was the 45th president of the United States from 2017 to 2021, and JD Vance, the junior U.S. senator from Ohio—defeated the Democratic Party\\'s ticket—Kamala Harris, the incumbent vice president, and Tim Walz, the 41st governor of Minnesota. The incumbent president, Joe Biden of the Democratic Party, initially ran for re-election as the party\\'s presumptive nominee, facing little opposition and easily defeating Representative Dean Phillips during the Democratic primaries; however, what was broadly considered a poor debate performance in June 2024 intensified concerns about his age and health, and led to calls within his party for him to leave the race. After initially declining to do so, Biden withdrew on July 21, becoming the first eligible incumbent president to withdraw since Lyndon B. Johnson in 1968. Biden endorsed Harris, who was voted the party\\'s nominee by the delegates on August 5, 2024. Harris selected Walz as her running mate. This was the first time since 2000 in which an incumbent vice president ran for president. Trump, who lost in 2020 to Biden, ran for re-election again. He was nominated during the 2024 Republican National Convention along with his running mate, Vance, after winning the Republican primaries by easily defeating former South Carolina Governor Nikki Haley. The Trump campaign made many false and misleading statements, including the claim that the 2020 election was stolen from Trump. Trump engaged in anti-immigrant fearmongering and promoted conspiracy theories. His political movement was described by historians and former Trump administration officials as authoritarian, featuring parallels to fascism, and using dehumanizing rhetoric toward his political opponents. Trump achieved victory in the Electoral College, winning 312 electoral votes, while Harris received 226. Trump won every swing state, including the first win of Nevada by Republicans since 2004, in addition to holding on to all of the states that he won in 2020. Trump won the national popular vote with a plurality of 49.8%, making him the first Republican to do so since George W. Bush in 2004. Relative to the 2020 election, he improved his vote share among working class voters, particularly among young men, those without college degrees, and Hispanic voters. This election marked the first time since 1888 that three consecutive presidential elections were decided by fewer than 100 electoral votes. Trump became the first person since Grover Cleveland in 1892 to be elected to a non-consecutive second term. According to polls, the most important issues for voters were the economy, healthcare, democracy, foreign policy (notably U.S. support for Israel and for Ukraine), illegal immigration, abortion, and climate change. Education and LGBTQ rights were also prominent issues in the campaign. Polled voters consistently cited the economy, particularly inflation, as the most important issue in the election. Analysts attributed Harris\\' loss to the 2021–2023 inflation surge, a global anti-incumbent wave, the unpopularity of the Biden administration, and Trump\\'s gains with the working class. The general election in November is an indirect election, in which voters cast ballots for a slate of members of the Electoral College; these electors then directly elect the president and vice president. Election offices are dealing with increased workloads and public scrutiny. Officials in many states have sought additional funding to hire more personnel, improve security, and extend training. Numerous election offices are dealing with an increase in retirements and are overwhelmed with public records requests, owing in part to the electoral mistrust planted by former President Trump\\'s loss in the 2020 election. Trump is the first president in American history to be impeached twice, and the first to run again after impeachment. As Trump was acquitted by the Senate in both cases, he was not barred from seeking reelection to the presidency in 2024. This is the first presidential election to occur after the reapportionment of votes in the Electoral College following the 2020 United States census and redistricting cycle. The seven swing states in the 2024 election were the Rust Belt states of Wisconsin, Michigan, and Pennsylvania, as well as the Sun Belt states of Arizona, Georgia, Nevada, and North Carolina. Trump secured victory in all seven states. The three Midwestern swing states had historically been part of the \"blue wall\" ever since Bill Clinton\\'s win in 1992, but broke for Trump in 2016, when he had previously faced a female Democratic candidate, Hillary Clinton. Several state courts and officials, including the Colorado Supreme Court, a state Circuit Court in Illinois, and the Secretary of State of Maine, ruled that Trump was ineligible to hold office under Section 3 of the Fourteenth Amendment to the United States Constitution for his role in the January 6 Capitol attack, and thus attempted to disqualify him from appearing on the ballot. These attempts were unsuccessful, and on March 4, 2024, the U.S. Supreme Court unanimously ruled in Trump v. Anderson that states cannot determine eligibility for a national election under Section 3, and only Congress has the authority to disqualify candidates, or to pass legislation that allows courts to do so. Trump made false claims of voter fraud in the 2020 presidential election, and continued denying the election results. Election security experts warned that officials who deny the legitimacy of the 2020 presidential election may attempt to impede the voting process, or refuse to certify the 2024 results. In July 2024, The New York Times reported that \"the Republican Party and its conservative allies are engaged in an unprecedented legal campaign targeting the American voting system\", by restricting voting for partisan advantage ahead of Election Day and preparing to mount \"legally dubious\" challenges against the certification process if Trump were to lose. In the lead up to the 2024 election, the Republican Party made false claims of massive \"noncitizen voting\" by immigrants in an attempt to delegitimize the election in the event of a Trump defeat. The claims were made as part of larger Republican Party efforts to disrupt the 2024 election and election denial movement. Trump continued spreading his \"big lie\" of a stolen election and predicted without evidence that the 2024 election would be rigged against him. Trump also falsely accused Biden of \"weaponizing\" the Justice Department to target him in relation to his criminal trials. Trump and several Republicans  stated they would not accept the results of the 2024 election if they believe they are \"unfair\". Trump\\'s previous comments suggesting he can \"terminate\" the Constitution to reverse his election loss, his claim that he would only be a dictator on \"day one\" of his presidency and not after, his promise to use the Justice Department to go after his political enemies, his plan to use the Insurrection Act of 1807 to deploy the military for law enforcement in primarily Democratic cities and states, attempts to overturn the 2020 United States presidential election, continued Republican efforts to restrict voting following the 2020 presidential election, Trump\\'s baseless predictions of voter fraud in the 2024 election, and Trump\\'s public embrace and celebration of the January 6 United States Capitol attack, raised concerns over the state of democracy in the United States. Trump\\'s political operation said that it planned to deploy more than 100,000 attorneys and volunteers to polling places across battleground states, with an \"election integrity hotline\" for poll watchers and voters to report alleged voting irregularities. Before the election, U.S. officials and former officials stated that foreign interference in the 2024 election was likely. Three major factors cited were \"America\\'s deepening domestic political crises, the collapse of controversial attempts to control political speech on social media, and the rise of generative AI\". China, Russia, and Iran were identified as mounting influence operations and attempts to interfere with the 2024 election. U.S. intelligence officials described the efforts as part of broader efforts by authoritarian nations to use the internet to erode support for democracy. China was identified as interfering with the 2024 election through propaganda and disinformation campaigns linked to its Spamouflage operation. U.S. intelligence agencies described the effort as not targeting any particular candidate but focusing on issues important to the Chinese government, such as Taiwan, and \"undermining confidence in elections, voting, and the U.S. in general\". As early as April 1, 2024, The New York Times reported that the Chinese government had created fake pro-Trump accounts on social media \"promoting conspiracy theories, stoking domestic divisions and attacking President Biden ahead of the election in November\". According to disinformation experts and intelligence agencies, Russia spread disinformation ahead of the 2024 election to damage Biden and Democrats, boost candidates supporting isolationism, and undercut support for Ukraine aid and NATO. On September 4, 2024, the United States publicly accused Russia of interfering in the 2024 election and announced several steps to combat Russian influence including sanctions, indictments, and seizing of web domains used to spread propaganda and disinformation. U.S. intelligence agencies assessed that Russia preferred Trump to win the election, viewing him as more critical of American support for Ukraine. Iran was identified as interfering with the 2024 presidential election through front companies connected to the Islamic Revolutionary Guard Corps and hacking attempts against the Trump, Biden, and Harris campaigns starting as early as May 2024. Iran launched propaganda and disinformation campaigns through fake news websites and accounts on social media to tip the election against former president Trump. The New York Times stated the efforts were an attempt at \"sowing internal discord and discrediting the democratic system in the United States more broadly in the eyes of the world\". Multiple Republican-led administrations removed voters from their state\\'s voter rolls in the lead up to the election, which critics argued violates the National Voter Registration Act. In July 2024, 160,000 inactive or infrequent voters were removed from Ohio\\'s voter rolls. The Ohio chapters of Common Cause and the League of Women Voters threatened lawsuits against the state over the purge. In August 2024, Governor Glenn Youngkin of Virginia signed an executive order removing 6,303 voters suspected of being non-citizens from Virginia\\'s voter rolls. In October 2024, the U.S. Department of Justice sued the Virginia Board of Elections and Virginia commissioner of elections over the voter purge, alleging that it violated the National Voter Registration Act. The suit also found a number of alleged non-citizens purged were actually citizens. District judge Patricia Tolliver Giles ruled that the removal was illegal, ordering the state to stop purging voter rolls and to restore the voter registration of more than 1,600 voters who had been removed. The 4th Circuit Court of Appeals then upheld the order. The administration filed an emergency appeal to the U.S. Supreme Court, which sided with Virginia in a 6–3 decision along ideological lines, allowing the state to continue purging voter rolls. In August 2024, Alabama Secretary of State Wes Allen announced a process for purging 3,251 registered Alabama voters and referred them to the state attorney general\\'s office for criminal prosecution. In September 2024, the Department of Justice sued Alabama for violating the National Voter Registration Act. In October 2024, district judge Anna Manasco ruled in favor of the Department of Justice, ordering the state to restore the voter registrations. Alabama secretary of state\\'s chief of staff Clay Helms testified that 2,000 of the purged voters were legally registered citizens. Trump was found liable in civil proceedings for both sexual abuse and defamation in 2023 and defamation in 2024, while also being criminally convicted of 34 felonies related to falsifying business records, expected to be an issue during the campaign. As of December 2023, he had four criminal indictments totaling 86 felony counts and there are other lawsuits against Trump. On May 30, 2024, Trump was found guilty by a jury of all 34 felony counts in The People of the State of New York v. Donald J. Trump over falsifying business records for hush money payments to pornographic film star Stormy Daniels, to ensure her silence about a sexual encounter between them, to influence the 2016 presidential election. This made Trump the first former U.S. president to be convicted of a crime in American history. Trump and many Republicans have made numerous false and misleading statements regarding Trump\\'s criminal trials, including false claims that they are \"rigged\" or \"election interference\" orchestrated by Biden and the Democratic Party, of which there is no evidence. Trump faces an additional 52 felony counts: 4 counts in United States of America v. Donald J. Trump for his alleged role in attempting to overturn the 2020 United States presidential election and involvement in the January 6 United States Capitol attack; 8 counts in The State of Georgia v. Donald J. Trump, et al. for his alleged attempts to overturn the results of the 2020 United States presidential election in Georgia; and 40 counts in United States of America v. Donald J. Trump, Waltine Nauta, and Carlos De Oliveira relating to his hoarding of classified documents and alleged obstruction of efforts to retrieve them. In addition to his indictments, Trump was found liable on May 9, 2023, by an anonymous jury, in E. Jean Carroll v. Donald J. Trump for sexual abuse/rape,  and ordered to pay a total of $88.3 million combined for damages and defamation. In September 2023, Trump was found guilty of financial fraud in New York v. Trump and ordered to pay a $457 million judgement that he appealed. Trump was noted for attempting to delay his trials until after the November election. On January 20, 2025, Trump could order a new attorney general to dismiss the federal charges he is facing, prevent the state charges from taking effect through a variety of methods, and issue a presidential self-pardon. On July 1, 2024, the Supreme Court delivered its 6–3 decision in Trump v. United States, along ideological lines, ruling that Trump had absolute immunity for acts he committed as president within his core constitutional purview, at least presumptive immunity for official acts within the outer perimeter of his official responsibility, and no immunity for unofficial acts. Thus, Trump\\'s sentencing date for his convictions in New York was delayed from July to September 2024, and then to November 26, and the trial dates in Trump\\'s other cases would likely also be delayed to review the applicability of the Supreme Court\\'s decision. Former president Trump, lawmakers, and mass media raised concerns about President Biden\\'s age, including his cognitive state, during and after the 2020 United States presidential election. These concerns increased after a poor performance by Biden during a debate against Trump in the 2024 presidential election, which led a number of commentators and some Democratic lawmakers to call for Biden to drop out of the 2024 presidential race. In July 2024, Biden withdrew his candidacy while stating that he would continue serving as president until the conclusion of his term. According to a February 2024 poll, Biden\\'s age and health were major or moderate concerns for 86% of voters generally, up from 76% earlier in 2020. According to another 2024 poll, most of those who voted for Biden in 2020 believed he was too old to be an effective president; The New York Times noted that these concerns \"cut across generations, gender, race and education\". In the summer before the election, polling showed at least half of Americans thought that Trump, who is 78 years old, was too old to serve a second term, with 80% unsure he would be able to finish out a second term. Numerous public figures, media sources, and mental health professionals speculated that Trump may have some form of dementia, which runs in his family. Experts for the science publication STAT who analyzed changes in Trump\\'s speeches between 2015 and 2024 noted shorter sentences, more tangents, more repetition, and more confusion of words and phrases. Doctors suggested it could just be due to changes in mood or it could indicate the beginning of Alzheimer\\'s. The sharp rise in all-or-nothing thinking is also linked to cognitive decline. The New York Times reported that Trump\\'s 2024 speeches had grown \"darker, harsher, longer, angrier, less focused, more profane and increasingly fixated on the past\", and that experts considered this increase in tangential speech and behavioral disinhibition as a possible consequence of advancing age and cognitive decline. Trump was also criticized for his lack of transparency around his medical records and health. Several scholars, lawmakers, intelligence agencies, and the members of the public expressed concerns about political violence surrounding the 2024 election. The fears came amidst increasing threats and acts of physical violence targeting public officials and election workers at all levels of government. Trump was identified as a key figure in increasing political violence in the United States both for and against him. Political violence was at its highest since the 1970s, and the most recent violence came from right-wing assailants. Trump increasingly embraced far-right extremism, conspiracy theories such as Q-Anon, and far-right militia movements to a greater extent than any modern American president. Trump also espoused dehumanizing, combative, and violent rhetoric, and promised retribution against his political enemies. Trump played down but refused to rule out violence following the 2024 election, stating \"it depends\". Trump also suggested using the military against \"the enemy from within\" on Election Day that he described as \"radical left lunatics\", Democratic politicians, and those opposed to his candidacy. On July 13, 2024, Trump survived an assassination attempt while addressing a campaign rally near Butler, Pennsylvania. Trump was shot and wounded on his right ear by Thomas Matthew Crooks, who fired eight rounds with an AR-15–style rifle from the roof of a building approximately 400 feet (120 metres) from the stage; the shots one audience member and critically injured two others. Seconds later, Crooks was shot and killed by the U.S. Secret Service\\'s counter-sniper team. On September 11, 2024, a bipartisan Senate report identified tech issues and other preventable mistakes by the Secret Service during the event. On September 15, 2024, Trump survived a separate assassination attempt at Trump International Golf Club in West Palm Beach, Florida. The suspect did not fire his weapon, and no deaths or injuries were reported. The suspect, Ryan Wesley Routh, is in custody. Since the 2020 election and continuing into the 2024 election, the election denial movement prompted thousands of death threats directed at election workers, officials, and their families, with some receiving letters laced with fentanyl. As of March 2024, the Department of Justice\\'s Election Threats Task Force had charged 20 people with threat-related crimes. In September 2024, suspicious packages were sent to state election officials in several states, which resulted in evacuations. The inclusion of white powder in most of the packages mirrored the 2001 anthrax attacks; the substance in Oklahoma packages was identified as flour. Threats led some election workers to resign, and affected recruitment of temporary poll workers. In locations where funds were available, efforts to protect election workers involved active shooter training, provision of first aid kits and Narcan, bulletproof vests, bulletproof glass, metal detectors, armed guards, police snipers, drones. On October 30, 2024, an 18-year-old man in Jacksonville, Florida, was arrested for aggravated assault and improper exhibition of a dangerous weapon after brandishing a machete at two women outside an early voting center. He, along with seven other teenagers, allegedly approached and antagonized members of the opposing political party as they were demonstrating. Neither the teenager\\'s nor the women\\'s political parties were disclosed, although later posts by the Duval Democratic Party described the teenager\\'s party as a \"group of young men carrying Trump flags\". On November 1, 2024, a voter wearing a \"Let\\'s Go Brandon\" hat was reportedly struck by a poll worker after a verbal altercation over his hat at an Orangeburg County, South Carolina, polling location. Also on November 1, a man in Bath, New York, was arrested for assaulting someone in a supermarket for wearing a Trump hat. In late October 2024, multiple fires were reported at ballot drop boxes in Portland, Oregon, and Vancouver, Washington. The fires damaged hundreds of ballots, requiring election officials to identify and offer new ballots to those affected by the fires. Prior to the fires, the Federal Bureau of Investigation and the Department of Homeland Security had issued a bulletin raising concerns that \"election-related grievances\" could motivate domestic extremist activity and that ballot drop boxes could potentially be \"attractive targets\". In Phoenix, Arizona, a fire was started in a mail collection box, destroying some ballots and other mail. A suspect was arrested and claimed that the fire was unrelated to the election. Trump, the then-incumbent president, was defeated by Biden in the 2020 election and was not term-limited to run again in 2024, making him the fifth ex-president to seek a second non-consecutive term.  Trump filed and announced his candidacy a week following the 2022 midterm elections. Trump was considered an early frontrunner for the Republican presidential nomination. He had announced in March 2022 that his former vice president Mike Pence would not be his running mate. Trump faced opposition in the primaries. Florida Governor Ron DeSantis was initially viewed as the main challenger to Trump for the Republican nomination, having raised more campaign funds in the first half of 2022 and posting more favorable polling numbers than Trump by the end of 2022. On May 24, 2023, DeSantis announced his candidacy on Twitter in an online conversation with Twitter CEO Elon Musk. At the end of July 2023, FiveThirtyEight\\'s national polling average of the Republican primaries had Trump at 52 percent, and DeSantis at 15. Following the Iowa caucuses, in which Trump posted a landslide victory, DeSantis and businessman Vivek Ramaswamy dropped out of the race and endorsed Trump, leaving the former president and Nikki Haley, the former South Carolina governor who served in Trump\\'s cabinet, as the only remaining major candidates. Trump continued to win all four early voting contests while Haley\\'s campaign struggled to gain momentum. On March 6, 2024, the day after winning only one primary out of fifteen on Super Tuesday, Haley suspended her campaign. On March 12, 2024, Trump officially became the presumptive Republican presidential nominee. Trump was injured in an assassination attempt on July 13, 2024, when a bullet grazed his ear. This was the first time a president or major party presidential candidate was injured in an assassination attempt since Ronald Reagan in 1981. On July 15, 2024, the first day of the Republican National Convention, Trump officially announced that Senator JD Vance of Ohio would be his running mate. On July 18, 2024, for the third consecutive time, Trump accepted the nomination from the Republican National Convention to become the Republican presidential nominee. On April 25, 2023, President Biden officially announced his bid for re-election, confirming that Vice President Harris would remain his running mate. Concerns about Biden\\'s age were prominent, given that he was the oldest person to assume the office at age 78, which would make him 82 at the end of his first term and 86 at the end of a potential second term. An April 2023 poll indicated that 70 percent of Americans, including 51 percent of Democrats, believed Biden should not seek a second term, with nearly half citing his age as the reason. Biden\\'s approval rating stood at 41 percent, with 55 percent disapproving. Speculation also arose that Biden might face a primary challenge from the Democratic Party\\'s progressive faction; however, after Democrats outperformed expectations in the 2022 midterm elections, many believed Biden\\'s chances of securing the party\\'s nomination had increased.  On July 28, 2022, Representative Dean Phillips became the first incumbent Democratic member of Congress to say President Biden should not run for re-election and called for \"generational change\" pointing to Biden\\'s age. Despite a handful of primary challengers, including Phillips, Robert F. Kennedy Jr., Marianne Williamson, and Jason Palmer, Biden easily became the presumptive nominee of the party on March 12, 2024. Palmer, who won the American Samoa caucuses, became the first candidate to win a contested primary against an incumbent president since Ted Kennedy in 1980. Biden also faced significant opposition from uncommitted voters and the Uncommitted National Movement in their protest vote movement against Biden due to his support for Israel during the Israel–Hamas war, which collectively won 36 delegates. Following a widely panned debate performance against Trump on June 27, 2024, Biden withdrew from the race on July 21, endorsing Kamala Harris as his successor. Harris quickly announced her campaign and secured enough delegate endorsements by July 22 to become the presumptive nominee. Biden\\'s withdrawal made him the first eligible incumbent president since Lyndon B. Johnson in 1968 not to seek re-election, and the first to withdraw after securing enough delegates to win the nomination. Harris is the first nominee who did not participate in the presidential primaries since Vice President Hubert Humphrey, also in 1968, and the first since the modern Democratic Party primary procedure was created in 1972 (prior to which most states did not hold primary elections). Harris secured enough delegates to be the party\\'s presumptive nominee on August 5. She selected Minnesota Governor Tim Walz as her running mate the following day, and accepted the party\\'s nomination on August 22. Harris framed her campaign as \"a choice between freedom and chaos\" and based it around the ideals of \"freedom\" and \"the future\". The Harris campaign sought to highlight her experience as an attorney general and a prosecutor to \"prosecute the case\" against Trump by pointing out his 34 felony convictions and the impacts of the overturning of Roe v. Wade. Harris ran as a moderate Democrat who moved towards the center on several policy positions since her 2019 primary run, embracing many of Biden\\'s domestic policy stances. Harris focused her economic proposals on the cost of groceries, housing and healthcare. She also focused on the middle class, and small businesses. A central campaign theme for Trump\\'s second presidential bid was \"retribution\". Trump framed the 2024 election as \"the final battle\", and openly promised to leverage the power of the presidency for political reprisals. Trump heavily ran on immigration as a central campaign focus. Trump\\'s campaign focused on dark and apocalyptic rhetoric about the state of the country and predicting doom if he did not win. The Associated Press stated that \"Trump\\'s rallies take on the symbols, rhetoric and agenda of Christian nationalism.\" During his 2024 presidential campaign, Trump  made numerous false and misleading statements. The large number of lies and false statements have been attributed to Trump\\'s rhetorical style described as using the \"big lie\" and firehose of falsehood propaganda technique. Trump also made many personal attacks against Harris, several of which were sexual in nature, were characterized as racist and misogynistic, and were considered a further breach of political norms. Trump\\'s harsher rhetoric against his political enemies has been described by historians, scholars, commentators and former generals as populist, authoritarian, fascist, and unlike anything a political candidate has ever said in American history. Abortion access was a key topic during the campaign; it was on the ballot in up to ten states in 2024, including the swing states of Arizona and Nevada. Some pundits argued abortion-rights referenda could help Harris in November. Democrats predominantly advocate for abortion access as a right, while Republicans generally favor significantly restricting the legality of abortion. Since becoming the presumptive nominee, Harris indicated her support for passing legislation which would restore the federal abortion right protections previously guaranteed by Roe. She argued Trump would let his anti-abortion allies implement Project 2025 proposals to restrict abortion and contraception throughout the United States. Trump claimed credit for overturning Roe but criticized Republicans pushing for total abortion bans. Trump said he would leave the issue of abortion for the states to decide but would allow red states to monitor women\\'s pregnancies and prosecute them if they have an abortion. In his home state of Florida, Trump announced he would vote \"No\" on Amendment 4, an abortion rights referendum, preserving the six-week ban. The announcement came one day after he initially criticized the six-week ban for being \"too short\" and said he would vote to lengthen it. Trump repeated a false claim that Democrats support abortions after birth and \"executing\" babies. Border security and immigration were among the top issues concerning potential voters in the election. Polling showed that most Americans want to reduce immigration, and that a substantial minority of white Republicans were concerned about White demographic decline. In 2023 and early 2024, a surge of migrants entering through the border with Mexico occurred. By June 2024, illegal crossings reached a three-year low following four consecutive monthly drops, which senior officials attributed to increased enforcement between the United States and Mexico, the weather, and Biden\\'s executive order (A Proclamation on Securing the Border) increasing asylum restrictions. Harris promised to fight for \"strong border security\" coupled with an earned pathway to citizenship. Harris highlighted her work in combating transnational gangs, drug cartels, and human traffickers while attorney general. As vice president, Harris announced in 2023 that she pledged of US$950 million from private companies into Central American communities to address the causes of mass migration, such as poverty. Harris stated she believes the immigration system is \"broken\" and needs to be fixed, and she said most Americans believe this. Harris also advocated for stricter asylum rules than President Biden. Harris supported increasing the number of U.S. Border Patrol agents and accused Trump of being unserious on border security. As vice president, Harris also supported a bipartisan bill that would have funded additional border agents and closed the border if too crowded; the bill was rejected by Trump. Trump called on House and Senate Republicans to kill the bill arguing it would hurt his and Republican\\'s reelection campaigns and deny them the ability to run on immigration as a campaign issue. Harris criticized Trump for his opposition to the bill on the campaign trail, and promised to sign the bill into law as president. Trump stated that if he were elected, he would increase deportations, send the U.S. military to the border, expand U.S. Immigration and Customs Enforcement detentions through workplace raids, deputize local law enforcement to handle border security, increase U.S. Customs and Border Patrol funding, as well as finish building the wall on the southern border. Trump has said he will deport both legal and illegal immigrants. The New York Times reported that Trump was considering \"an extreme expansion of his first-term crackdown on immigration\", such as \"preparing to round up undocumented people already in the United States on a vast scale and detain them in sprawling camps while they wait to be expelled\". Trump stated his intention to deport 11 million people through the construction of detention camps and deploy the military, relying on presidential wartime powers under the 18th-century Alien Enemies Act. Trump made false claims of a \"migrant crime wave\" that are not supported by data, and provided no evidence to back up his claims. In regards to his anti-immigrant nativism, Trump\\'s tone grew harsher from his previous time as president, and used fearmongering, racial stereotypes, and more dehumanizing rhetoric when referring to illegal immigrants. Trump repeatedly called some immigrants subhuman, stating they are \"not human\", \"not people\", and \"animals\", who will \"rape, pillage, thieve, plunder and kill\" American citizens, that they are \"stone-cold killers\", \"monsters\", \"vile animals\", \"savages\", and \"predators\" that will \"walk into your kitchen, they\\'ll cut your throat\", and \"grab young girls and slice them up right in front of their parents\". Other rhetoric includes false statements that foreign leaders are deliberately emptying insane asylums to send \"prisoners, murderers, drug dealers, mental patients, terrorists\" across the southern border as migrants, that they are \"building an army\" of \"fighting age\" men to attack Americans \"from within\", and are the \"enemy from within\" who are ruining the \"fabric\" of the country. Since fall 2023, Trump claimed that immigrants are \"poisoning the blood of our country\", which drew comparisons to racial hygiene rhetoric used by White supremacists and Adolf Hitler. In the 20 rallies since Trump\\'s debate with Harris, Politico found his rhetoric, especially around immigrants, getting darker, citing experts who found it strongly echoed authoritarian and Nazi ideology, including claims that immigrants are genetically predisposed to commit crimes and have \"bad genes\". Trump\\'s comments came as part of violent, dehumanizing rhetoric Trump had increasingly used during his campaign. Climate change and energy policy played a role in the 2024 presidential campaign. In 2023, the United States saw a record in crude oil production with over 13.2 million barrels of crude per day, beating the 13 million barrels per day produced at the peak of Trump\\'s presidency. The United States also dealt with supply shocks caused by the 2021–2024 global energy crisis due to the COVID-19 pandemic and Russian invasion of Ukraine. An advocate for environmental justice to address the impact of climate change on lower-income areas and people of color, Harris supported Biden\\'s climate legislation. In 2022, Harris helped pass the Inflation Reduction Act, the largest investment in addressing climate change and clean energy in American history, putting the United States on track to meet emissions reduction targets by 50–52% below 2005 levels by 2030. Harris\\' campaign stated that she would not support a ban on fracking. Trump ridiculed the idea of man-made climate change, and repeatedly referred to his energy policy under the mantra \"drill, baby, drill\". Trump said he would increase oil drilling on public lands and offer tax breaks to oil, gas, and coal producers, and stated his goal for the United States to have the lowest cost of electricity and energy of any country in the world. Trump also promised to roll back electric vehicle initiatives, proposed once again the United States withdrawal from the Paris Agreement, and rescind several environmental regulations. Trump stated his intention to roll back parts of the Inflation Reduction Act. The implementation of Trump\\'s plans would add around 4 billion tons of carbon dioxide to the atmosphere by 2030, also having effects on the international level. If the policies do not change further, it would add 15 billion tons by 2040 and 27 billion by 2050. Although the exact calculation is difficult, researchers stated: \"Regardless of the precise impact, a second Trump term that successfully dismantles Biden\\'s climate legacy would likely end any global hopes of keeping global warming below 1.5C.\" Polling before the election indicated profound dissatisfaction with the state of American democracy. According to an October 25 ABC/Ipsos poll, 49% of Americans saw Trump as a fascist, described as \"a political extremist who seeks to act as a dictator, disregards individual rights and threatens or uses force against their opponents\". Meanwhile, only 22% saw Harris as a fascist by this definition. Some Republicans were concerned that Trump\\'s former impeachment and four criminal indictments were attempts to influence the election and keep him from office; however, there is no evidence that Trump\\'s criminal trials were \"election interference\" orchestrated by Biden and the Democratic Party, and Trump also continued to repeat false claims that the 2020 election was rigged and stolen from him. Trump\\'s 2024 presidential campaign was criticized by legal experts, historians, and political scientists for making increasingly dehumanizing, violent, and authoritarian statements,which some believe the Trump campaign was intentionally leaning into. Trump\\'s platform calls for the vast expansion of presidential powers and the executive branch over every part of the federal government. Trump called for stripping employment protections for thousands of career civil service employees (a provision known as Schedule F appointment that had been adopted by Trump at the end of 2020) and replacing them with political loyalists if deemed an \"obstacle to his agenda\" within federal agencies, the United States Intelligence Community, State Department, and Department of Defense. Trump repeatedly stated his intention to have the Justice Department investigate and arrest his domestic political rivals, judges, prosecutors, and witnesses involved in his criminal trials. Calling the January 6, 2021, Capitol attack a \"day of love\", Trump promised to pardon those charged for their involvement and called them \"hostages\" and \"great, great patriots\". Trump played down but did not rule out violence after the 2024 election if he were not to win, stating \"it depends\". A large number of scholars, historians, commentators, former Trump officials and generals described Trump as a fascist. Trump said his political opponents are a greater threat to the United States than countries such as Russia, China, and North Korea, and urged deploying the military on American soil to fight \"the enemy from within\", which he describes as \"radical left lunatics\" and Democratic politicians such as Adam Schiff. Trump repeatedly voiced support for outlawing political dissent and criticism he considers misleading or challenges his claims to power. Trump previously tried to prosecute his political rivals and would have fewer checks on his power in a second term. Project 2025 is a proposed plan by the Heritage Foundation to centralize power into the U.S. executive branch for conservative policies to be enacted without input from the judicial branch, legislative branch, or local government. The plan received some support from the Republican Party. The document was written in part by former members of the Trump administration, such as Russell Vought and John McEntee, while Trump stated he is unfamiliar with parts of the plan. Harris was tasked by Biden with protecting democracy through voting rights legislation through her work on the For the People Act. Harris supported efforts to defend election workers and counter Republican efforts to restrict voting following the 2020 presidential election. Harris also stated her support to pass the Freedom to Vote Act and John Lewis Rights Voting Rights Advancement Act if elected. Voters consistently cited the economy as their top issue in the 2024 election. Following the COVID-19 pandemic, a global surge in inflation ensued that raised prices on many goods, although the U.S. inflation rate had declined significantly during 2023 and 2024. The New York Times reported that both candidates \"embraced a vision of a powerful federal government, using its muscle to intervene in markets in pursuit of a stronger and more prosperous economy\". The Wall Street Journal reported that economists found Trump\\'s proposed policies created a greater risk of stoking inflation and generating higher budget deficits, relative to the Harris plan. Twenty-three Nobel Prize-winning economists signed a letter characterizing the Harris economic plan as \"vastly superior\" to the Trump plan. Trump\\'s designated government efficiency leader Elon Musk said in October that he expected Trump\\'s plan would involve more than $2 trillion in federal spending cuts and would cause \"some temporary hardship.\" Harris ran on a pro-union platform. She promoted the passage of the Infrastructure Investment and Jobs Act, funding for small business, and previously supported an act as senator to provide a $6,000 tax credit for middle and low-income families. Harris promised to address price gouging, bring down costs, ban hidden fees and late charges from financial institutions, limit \"unfair\" rent increases and cap prescription drug costs, which she said would \"lower costs and save many middle-class families thousands of dollars a year\". The New York Times described Harris\\' economic policy as embracing \"the idea that the federal government must act aggressively to foster competition and correct distortions in private markets\". Harris proposed raising taxes on corporations and high-earners to fund services for the lower and middle classes and reduce the deficit. Harris stated she supported increasing the top tier capital gains tax rate to 28%, up from 20% and lower than Biden\\'s proposed 39.6%. Harris stated her support for a Billionaire Minimum Income Tax, increasing the tax on stock buybacks to 4%, and a ten-fold tax reduction for small business ranging from $5,000 to $50,000 in relief. Harris also supported efforts to create a tax on unrealized gains for those with more than a $100 million in net worth if they do not pay a minimum 25% tax rate on their income inclusive of unrealized gains so long as 80% of said wealth is in tradeable assets. The plan would impact a small percentage of the wealthy in the United States, and Axios reported most tech founders and investors would be spared. Harris also announced support for restoring the corporate tax rate to 28% among several other tax proposals to raise taxes and close loopholes for corporations and the wealthy that would bring in $5 trillion in additional revenue over 10 years. Harris proposed tax breaks to companies delivering economic benefit, such as manufacturing technologies that mitigate climate change and building affordable housing, and proposed a ban on corporate price gouging to \"help the food industry become more competitive\". Harris also expressed support for student debt relief, and said she supported raising the minimum wage. In response to the housing crisis in the United States, Harris said she would increase home construction to reduce housing costs, arguing that it negatively impacts the economy and hurts working-class families. Harris proposed directing $40 billion to construction companies to build starter homes, and promised to send $25,000 in down-payment assistance to every first time home buyer. Harris said she would urge Congress to enforce fair housing laws and pass a bill to bar property owners from using services that \"coordinate\" rents through the passage of the Preventing the Algorithmic Facilitation of Rental Housing Cartels Act, and also call on Congress to pass the Stop Predatory Investing Act by removing tax benefits to Wall Street firms that buy up large numbers of single-family homes. Trump proposed further individual and corporate tax cuts beyond the 2017 Tax Cuts and Jobs Act. Trump argued that keeping taxes low for the wealthy increases job creation, and that these policies coupled with a crackdown in illegal immigration and reduction in inflation would help the middle class. Trump said he would reduce regulation of business through the creation of an efficiency commission led by Musk, along with reducing environmental regulation. By October 2024, Musk was Trump\\'s second-largest individual campaign donor. Trump said deporting millions of immigrants would bring housing prices down, although most economists argue it could raise prices by removing construction workers who use less real estate. Trump and Harris support not taxing tips for at least hospitality and service workers. Trump suggested that he would abolish the federal income tax and replace it with tariffs. In June 2024, Trump discussed the idea of eliminating the income tax in a private meeting with Republican politicians. In October 2024, Trump suggested that he would scrap the income tax if he wins, pointing out that tariffs were the main sources of revenue in the 19th century. Trump\\'s stated trade policy involves the United States decoupling from the global economy and having the country become more self-contained and exerting its power through individual trade dealings. This would be attempted largely through a universal baseline tariff, set from 10% to 20% on all imports, with increased penalties if trade partners manipulate their currency or engage in unfair trade practices. Trump called for 100% tariffs on cars made outside the United States and a minimum 60% tariff on Chinese goods. Trump stated his plans to urge Congress to pass a Trump Reciprocal Trade Act to bestow presidential authority to impose a reciprocal tariff on any country that imposed one on the United States. The Washington Post reported in January 2024 that Trump was preparing for a massive trade war. Trump\\'s trade policies were described as protectionist, neo-mercantilist, or autarkist, and increasing inflation became a more common critique of Trump\\'s economic plans. In June 2024, 16 Nobel Prize in Economics laureates signed an open letter arguing that Trump\\'s fiscal and trade policies coupled with efforts to limit the Federal Reserve\\'s independence would reignite inflation in the United States. Moody\\'s, as well as most economists surveyed by The Wall Street Journal in July 2024, predicted that inflation would be worse under Trump than Biden, a result due in part to tariffs, a crack down on illegal immigration, and larger deficits. Trump incorrectly insisted foreign exporters pay tariffs imposed by the U.S. government; American importers pay tariffs on goods upon arrival at U.S. ports, meaning tariffs are taxes that raise prices for imported products Americans buy. One non-partisan analysis estimated the proposed tariffs would cost $1,700 per year for the average household. The China–United States trade war Trump initiated in 2018 by imposing tariffs on China was widely characterized as a failure for the United States by the end of Trump\\'s presidency. The Committee for a Responsible Federal Budget found that Trump\\'s plans would grow the national debt at roughly twice the rate of Harris\\' plan, while the Institute on Taxation and Economic Policy found Trump\\'s plan would only benefit the top 5% of earners. Trump pledged to terminate the U.S. Department of Education, claiming it has been infiltrated by \"radical zealots and Marxists\". At the American Federation of Teachers national convention, Harris attacked recent efforts to ban books in school libraries. She also previously called for raising teachers\\' wages. Unlike previous elections, healthcare reform played a much more minor role in the 2024 presidential election. Harris stated that she no longer supported a single-payer healthcare system as she had in 2020. Instead, she said she intended to protect and expand items legislated during the Obama and Biden administrations. She said she would \"maintain and grow\" the Affordable Care Act, while Trump said that he would replace it with his own healthcare plan. Harris also supported limiting yearly out-of-pocket drug costs for seniors, and expanding the $35 cap on insulin for seniors on Medicare to younger individuals in the program as well. Generally, both candidates supported using the government to rein in prescription drug costs. Trump suggested he was open to cutting entitlement programs, such as Social Security and Medicare, part of an effort to \" waste\" as described by his campaign. During his first term, several budget proposals did suggest cuts to the programs. Additionally, Vance and Speaker of the House Mike Johnson suggested cuts to the ACA, including around pre-existing conditions, were part of Trump\\'s plan. After Robert F. Kennedy Jr. dropped out of the race and endorsed Trump, Kennedy advocated for his \"Make America Healthy Again\" agenda, pledging to combat the upward trend in chronic disease patients, with Trump saying Kennedy would \"go wild\" regarding policy on food and medicines. The Russian invasion of Ukraine, the Israel–Hamas war, and Chinese expansionism were some of the main foreign policy issues of the election. Harris signaled she would generally follow Biden\\'s foreign policy on NATO and Ukraine, supporting both in the aftermath of the Russian invasion. A supporter of the two-state solution to the Israeli-Palestinian conflict, Harris was expected to continue Biden\\'s approach; she was seen as tougher on Israel and more sympathetic to Palestinians than Biden or Trump. Harris advocated for \"de-risking\" from China, a policy that encourages reducing Western economic dependence on China. Harris was expected to continue deepening American alliances in Asia and the Pacific with the intention of curbing China\\'s rising power both economically and militarily. Trump\\'s 2024 campaign promoted an isolationist foreign policy based on \"America First\". Trump said that America\\'s allies \"treat us actually worse than our so-called enemies\", and added: \"We protect them and then they screw us on trade.\" He also vowed to impose tariffs on trade partners; economists said this could spark trade wars. He promised to \"fundamentally reevaluate\" NATO, shifting the country\\'s defense spending from Europe towards Asia. Although NATO members are obliged to defend any other member who is attacked, Trump said he would encourage Russia to \"do whatever the hell they want\" to NATO allies that did not spend enough on defense. NATO Secretary-General Jens Stoltenberg responded: \"Any suggestion that allies will not defend each other undermines all of our security.\" Trump vowed that even before he was inaugurated, he would negotiate an end to the Russo-Ukrainian War in one day, He promised to quickly cut the amount of military and financial aid to Ukraine, and make Europeans reimburse the United States the cost of rebuilding its old stockpiles; however, most of the money for Ukraine actually goes to American factories that make weapons and military equipment. Trump previously said he might recognize Russia\\'s illegal annexation of Crimea, and suggested the 2022 invasion could have been prevented by Ukraine giving up parts of its own country to Russia. Trump was seen as more pro-Israel and less sympathetic to Palestine than Biden or Harris. Trump promised a tougher stance against China, and at the same time questioned whether the United States should defend Taiwan. Trump suggested withdrawing troops from South Korea if it does not pay more to support American troops there. Polling indicated that the majority of voters support a ceasefire and American mediation in the Israel–Hamas war. According to a YouGov poll in March 2024, 52% of Americans supported stopping weapons shipments to Israel, coming largely from Americans who voted for Biden in 2020 (62% support) and people who did not vote in 2020 (60%). Republicans opposed halting weapons shipments by 25 points. Republicans generally supported arms to Israel, while Democrats were divided on the issue. Harris was expected to largely continue Biden\\'s approach to the Israeli–Palestinian conflict, although she is seen as tougher on Israel and more sympathetic to Palestinians than Biden or Trump. Following the 2023 Hamas-led attack on Israel, Harris at first supported Israel\\'s offensive, saying \"the threat Hamas poses to the people of Israel must be eliminated\". Since then, she criticized Israel\\'s actions and the Gaza humanitarian crisis. In March 2024, Harris opposed Israel\\'s invasion of Rafah, called for an immediate ceasefire in Gaza, and called the situation in Gaza a \"humanitarian catastrophe\". Harris supported continued aid to Israel and Palestine but insisted that Israel should agree to a ceasefire and hostage deal and both sides should move towards a two-state solution. In the Democratic primaries, the Uncommitted National Movement led a protest campaign against Biden over the war, calling for a ceasefire and arms embargo on Israel. It received over 700,000 votes and 36 delegates. Harris was seen as more sympathetic to Palestinians, and she and her campaign interacted more with Arab-American and Uncommitted leaders; however, Harris refused to halt weapons shipments to Israel or shift policy much from Biden, saying Israel has a right to defend itself. By October, Uncommitted encouraged its members to vote for Harris. During his first term as president, Trump brought in more pro-Israel policies than any president before. He presented himself as a stronger defender of Israel, and was seen as less sympathetic to Palestine than Biden or Harris. Trump is expected to continue arming Israel, likely with \"no strings attached\" for humanitarian concerns. He voiced strong support for Israel\\'s war on Hamas and Gaza, saying that Israel must \"finish the problem\". Trump told donors he would \"crush\" pro-Palestinian protests, deport non-citizen protesters, and \"set the movement back 25 or 30 years\". Trump said he would ban Gaza residents from entering the United States. At times, he was critical of Israel\\'s war in Gaza, saying Israel should \"get it over with ... get back to peace and stop killing people\". In the 2020s, conservative politicians in state legislatures introduced a growing number of bills that restrict the rights of LGBTQ people, especially transgender people. A strong supporter of LGBTQ people\\'s rights, Harris denounced legislative attacks on transgender rights in states across the country. Trump promised to roll back policies regarding transgender individuals. Trump stated he would rescind Biden\\'s Title IX protections \"on day one\" for transgender students using bathrooms, locker rooms, and pronouns that align with their gender identities. Trump stated he would enact a federal law that would recognize only two genders and claimed that being transgender is a concept only recently manufactured by \"the radical left\". Trump previously withdrew Title IX provisions that allowed transgender youth to have access to the bathrooms of their choice, and he attempted to roll-back several transgender-related policies in the Affordable Care Act. Trump repeated a false claim that children undergo transgender surgery while at school, without parental knowledge or consent. His campaign\\'s \"Kamala is for they/them, President Trump is for you\" attack ad was the most effective of the campaign, shifting the race 2.7 percentage points in favor of Trump after viewers watched it. A number of independent candidates  announced presidential runs, most notably Robert F. Kennedy Jr. and Cornel West. Several third parties, including the Libertarian Party, the Green Party, the Party for Socialism and Liberation, the Constitution Party, and the American Solidarity Party also announced presidential nominees. Kennedy dropped out of the race in August 2024, although he remained on the ballot in many states. The No Labels organization abandoned its efforts to run a centrist candidate in April 2024. Chase Oliver was chosen by the Libertarian Party as its presidential nominee on May 26, 2024, at the 2024 Libertarian National Convention. Oliver was the party\\'s nominee in the 2022 United States Senate election in Georgia. Oliver achieved ballot access in 47 states, and was eligible to receive write-in votes in the District of Columbia, Illinois, New York, and Tennessee. The party\\'s nominee in 2012 and 2016, Stein is a physician and a former member of the Lexington Town Meeting. On August 16, Stein selected academic Butch Ware as her running mate. Stein achieved ballot access in 38 states, and was eligible to receive write-in votes in seven states. She was not eligible to receive write-in votes in the remaining states or the District of Columbia. These third-party candidates had ballot access in some states, but not enough to get 270 votes needed to win the presidency, without running a write-in campaign. The following notable individual(s) ran independently for president. The following notable individual(s) announced and then suspended their campaigns before the election: Elections analysts and political pundits issue probabilistic forecasts of the composition of the Electoral College. These forecasts use a variety of factors to estimate the likelihood of each candidate winning the Electoral College electors for that state. Most election predictors use the following ratings: Below is a list of states considered by one or more forecast to be competitive; states that are deemed to be \"safe\" or \"solid\" by forecasters The Cook Political Report, Sabato\\'s Crystal Ball, Inside Elections, CNalysis, Decision Desk HQ, and YouGov are omitted for brevity. In April 2022, the Republican National Committee voted unanimously to withdraw from the Commission on Presidential Debates (CPD). In May 2024, the Biden campaign proposed hosting two debates outside of the CPD timetable and refusing to participate in CPD-hosted debates. Biden and Trump agreed to debates on CNN on June 27 and ABC News on September 10. The Harris camp suggested that another debate could be held in October after the September 10 debate with Trump. On September 12, Trump announced that there would be no third presidential debate. CNN hosted the first major debate of the election on June 27 in Atlanta, with 51 million viewers watching. Media outlets characterized Biden\\'s debate performance as a \"disaster\". Some pundits noted that he frequently lost his train of thought and gave meandering, confused answers. G. Elliott Morris and Kaleigh Rogers of ABC News\\' 538 argued that, although he had won the debate on policy, Biden had failed to reassure voters that he was capable of serving as president for another four years. After the debate, elected officials, party strategists, and fundraisers discussed replacing Biden as the party\\'s candidate, including whether prominent Democrats should make a public statement asking him to step aside. In response, Biden initially stated that he would not be dropping out, and prominent Democratic politicians, including Barack Obama and Hillary Clinton, reiterated their support for Biden following the debate. The debate performance led to Biden ultimately withdrawing his bid for re-election on July 21. The second presidential debate was held on Tuesday, September 10, by ABC News; 67.1 million viewers watched it. Although Trump had proposed a debate on Fox News, he later accepted the debate on ABC. The debate was held at the National Constitution Center in Philadelphia and lasted for about 100 minutes. ABC\\'s debate topics included abortion, the economy, foreign policy, and immigration. Most news organizations declared Harris the winner of the debate, and polling showed voters thought Harris won the debate by what The Washington Post described as a \"historically large\" margin. During the debate, Trump made numerous false assertions and extreme statements, including false claims about immigrants eating pets and Democrats supporting infanticide. CNN found that Trump made over 30 false claims during the debate, while Harris made only one. Republicans attributed Trump\\'s low debate performance to their perception of biased debate moderation by ABC News because the moderators fact-checked him more than four times but did not fact-check Harris. Vice presidential candidates JD Vance and Tim Walz participated in a debate hosted by CBS News on October 1 at the CBS Broadcast Center in New York City. Topics discussed during the debate included immigration, abortion, and the economy. Fact checking was primarily done online, with Vance making more false and misleading claims than Walz. Forty-three million viewers watched the debate. Many debate watchers viewed the debate as \"positive\" and \"civil\". According to polling, both candidates polled about even among viewers who were asked who won the debate, while Vance was considered the winner by a majority of columnists. Various debates and forums were held, sponsored by the Free & Equal Elections Foundation. Robert F. Kennedy Jr. organized a separate debate, taking place during the Trump–Harris event. Final reports as compiled from the certified vote totals of each state or district. Non-binding straw polls on the day of the Presidential general election to gauge the preference for President were held in the US territories of Guam and Puerto Rico. These polls, however, have no official say in the election. Winners of the territory are in bold. States where the margin of victory was under 1 percentage point (10 electoral votes; all won by Trump): States where the margin of victory was between 1 and 5 percentage points (87 electoral votes; 72 won by Trump, 15 won by Harris): States/districts where the margin of victory was between 5% and 10% (46 electoral votes; 12 won by Trump, 34 by Harris): Red denotes states or congressional districts won by Republican Donald Trump; Blue denotes those won by Democrat Kamala Harris. Counties with highest percentage of Democratic vote: Counties with highest percentage of Republican vote: As of 2024, Trump was the eighth presidential nominee to win non-faithless electoral votes in at least three elections, after Thomas Jefferson, Henry Clay, Andrew Jackson, Grover Cleveland, William Jennings Bryan, Franklin D. Roosevelt, and Richard Nixon. Nixon and Trump are the only presidential candidates to win a significant number of electoral votes in three presidential elections since term limits were enacted with the ratification of the Twenty-second Amendment; Trump is the only one of those eight that won the popular vote exactly once (Clay and Bryan never won it). Trump is also the first president since Cleveland in 1892 to win non-consecutive terms, and the only president to win non-consecutive terms since the ratification of the Twenty-second Amendment, as well as the first Republican to do so. Trump is the first Republican since George W. Bush in 2004 to win the popular vote, the same year a Republican last secured a second term. Trump is the first non-incumbent Republican to have won the popular vote since George H. W. Bush in 1988. Trump improved his percentage of the vote in every state and DC compared to the 2020 election; 2024 was the first presidential election since 1976 in which all 50 states and DC shifted to the same party. Trump won 49.8% of the popular vote, with a 1.48% margin of victory. While winning the popular vote, Trump did not win a majority of the popular vote, with his final tally roughly a half-percent smaller than Hillary Clinton\\'s national popular-vote margin over Trump in 2016. Thus, Trump is the first Republican since Nixon in 1968 to win the popular vote with a plurality. This was the first election since 1944 in which a presidential candidate won two elections with a different vice presidential candidate, as Trump replaced Mike Pence with JD Vance. This was the third election in which the losing party failed to flip any states from the previous election, in 2012 Romney was able to flip Indiana and North Carolina despite losing. It was also the fifth election in a row in which only one party flipped states; the last time both parties flipped states was in 2004 when Kerry flipped New Hampshire, while Bush flipped Iowa and New Mexico. Trump won 24 states by more than 10 percentage points, specifically every state that he had won in 2020 except for North Carolina. Around 90% of counties swung towards Trump between the 2020 and 2024 elections, encompassing both rural and urban areas, and it was the first time since 1932 in which the losing candidate failed to flip a single county. The swings against Kamala Harris were inversely correlated to population density, shrinking the urban-rural divide slightly. Harris still received higher support as population density increased. But relative to 2020, urban areas had the largest swings towards Trump, suburban areas had lesser swings towards Trump, and rural areas had the smallest swings towards Trump. All 50 states and D.C. swung towards Trump from 2020, making this the first time that they swung in the same direction since 1976. While most suburban areas also swung towards Trump, notable exceptions included those with large numbers of white college-educated voters, such as the suburbs of Atlanta, Indianapolis, and Milwaukee. Trump made substantial gains among Hispanic voters, most notably in South Florida and the Rio Grande Valley. Even among states that voted heavily for Biden in the 2020 election, Trump\\'s gains were significant. The states of New York and New Jersey swung over ten points toward Trump, and Trump also gained in Harris\\' home state of California. While there had been significant speculation prior to the election of Trump increasing his support among black voters, particularly black men, exit polling data showed only a marginal increase in black support for Trump (from 12% to 13%). Trump\\'s gain was limited by the fact he lost ground among black women, only garnering 7% of their vote, compared to 9% in 2020. While Trump made gains among young voters compared to Republicans in recent presidential elections, especially among young men, exit polls found Harris still won young voters by 51 to 54 percent of voters under 30, leading Trump by 4 to 12 points. Democrats performed better in the downballot races, where they kept Republican margins extremely narrow in the House of Representatives and won Senate elections in Arizona, Michigan, Nevada, and Wisconsin despite Trump carrying those states. Post-election research by the Brookings Institution found that while Trump made inroads with minority voters, the Republican Party had \"hardly\" created a multiracial coalition, arguing that saying so was premature and that such support \"could very well be a blip\" based more on economic concerns. Decline in Democratic turnout also was a major contributor to Trump winning the popular vote. Comparisons to 2020 and 2024 votes cast in heavily populated Democratic urban centers showed Harris losing millions of votes. New York City cast 573,000 fewer votes for Harris than Biden, Miami-Dade County 137,000, Cook County 295,000, Los Angeles County 620,000, and Harris County 115,000. Statewide, the only states that Harris received more votes than Biden were Maine, Utah, Nevada, North Carolina, Georgia and Wisconsin. Harris lost votes in critical battlegrounds Pennsylvania, Arizona and Michigan. Trump managed to gain another 2.5 million votes, mostly coming out of urban centers, but still garnering a couple hundred to thousands in rural and exurban counties across the Midwest, Northeast, Southeast and Mountain regions. Harris won 226 Electoral College votes, the worst performance for a Democratic presidential ticket since that of Michael Dukakis in 1988. Trump won 312 electoral college votes, carrying 31 of 50 states. By winning, Trump, aged 78, is the oldest person ever to be elected U.S. president; Vance, aged 40, is the first Millennial to be elected vice president. In addition, this was the most recent of two elections in the 21st century in which a candidate from either party won fewer than 20 states, with the other being 2004, where John Kerry also won only 19 states. After the 2020 misses, pollsters took steps to avoid similar errors. Despite this, national polls underestimated Trump a third time, albeit by less than in 2016 and 2020, and within the realm of a normal polling error; most polls going into the election showed essentially a tie, \"within the poll\\'s margin of error\", and thus both Harris and Trump were a normal polling error away from the win, although this did not preclude either Harris or Trump achieving a sweep of the battleground states. In every swing state, Trump outperformed his final polling numbers by around 3%, which is in line with a normal margin of error. In 2016, the national polls were fairly accurate but Trump overperforming the polls in Michigan, Pennsylvania, and Wisconsin led to his Electoral College victory. In 2020, polls overestimated Biden\\'s margin over Trump by about 4% in competitive states. In 2024, compared to 2020, the margin of error in swing states was less, and high-quality national polls were more accurate. There was also much discussion about the Electoral College bias, and the margin Harris had to achieve over Trump nationally to win in the Electoral College, which was lower than in 2020; in 2016 and 2020, the Electoral College bias in favor of Republicans was 2.9% and 3.8%, and according to late September 2024 polls it had been reduced to 0.7%, with the unlikely but not impossible outcome of Harris losing the national vote but winning the Electoral College. The Electoral College bias was reduced to 0.2%, as Trump\\'s margin in the tipping-point state in Pennsylvania was 1.7%, compared to Trump winning the popular vote by 1.5 percentage points. As polling generally does not underestimate a party three cycles in a row, several pundits and media outlets had suggested that Harris was being underestimated by polls, and discussed the possibility of \"shy Harris voters\", referencing the shy Tory factor. The results of the 2022 midterms had also lent more legitimacy to this theory as predictions of a red wave election had evaporated on election day, with some accusing Republicans of \"flooding the zone\" with pollsters biased in their favor, although this did not seem to affect polling aggregators. Polling averages were more accurate in swing states but vastly underestimated Trump\\'s strength in both safe red and blue states, which helped to reduce the Electoral College bias. Florida and Texas were both projected to go for Trump by about 7%; he won them by about 13%. Pollster Ann Selzer released a poll in Iowa that had Harris winning the state by 3%, only for Trump to take the state by 13%. On the other hand, New Jersey was projected to be a safe state for Harris but most news stations waited until 90% of the vote was in before calling it for Harris, as she was only leading by 5%. Historian Allan Lichtman incorrectly predicted a Harris win using The Keys to the White House system. NewsNation was the first TV network to call the race for Trump, using data from Decision Desk HQ, making the projection at 1:22 a.m. EST on November 6. Newsmax, which also used Decision Desk HQ, quickly followed in calling the election for Trump.  Fox News projected Trump as the winner at 1:47 a.m., while ABC, the Associated Press, CBS, CNN, and NBC all called the race around 5 a.m. In a convention center in West Palm Beach, Florida, he was greeted with cheers by supporters, chanting, \"USA! USA! USA!\" when Fox News declared him the winner. Trump claimed victory in a speech to his supporters, where he was joined on stage by his family and his running mate, JD Vance, saying: \"America has given us an unprecedented and powerful mandate.\" Harris did not speak to her supporters, who had gathered at Howard University, her alma mater. Her campaign co-chair, Cedric Richmond, briefly addressed the crowd, saying Harris would speak publicly on Wednesday. A few hours later, other media outlets also projected Trump elected as the 47th president of the United States, with the Associated Press describing it as an \"extraordinary comeback for a former president\". Crisis services for the LGBTQ+ community saw a sharp increase in usage during the election week. The Trevor Project\\'s crisis lines saw a 125% increase since around midnight on election night according to a statement by CEO Jaymes Black on November 6, and followed an about 200% increase in election related conversations that had been seen between November 3–4. By November 8, it was reported that the organization saw an overall increase by 700%. The Crisis Text Line also reported that 56% of their users reported as LGBTQ+ on election day. A company that assists wealthy Americans in securing foreign citizenship saw a 200× jump in inquiries. Democrats had split reactions to the loss, with differing views on why Harris lost the election. Vermont Senator Bernie Sanders criticized the Democratic campaign afterward, saying the party \"abandoned working class people\" and found that \"the working class has abandoned them\". He further blamed \"big money\" and \"well-paid consultants\" for the loss, and argued against sending billions of dollars in military aid to Israel. While expressing respect for Sanders and his views, former House speaker Nancy Pelosi disagreed with the claim that the \"Democratic Party has abandoned the working-class families\", instead blaming the party\\'s loss on Biden\\'s late exit and the lack of an open Democratic primary. The New York Times reported Pelosi felt cultural issues were more to blame for the party\\'s losses among working-class voters. Democratic National Committee chair Jaime Harrison dismissed Sanders\\' criticism as \"straight-up BS\". Sanders also wrote an article in The Boston Globe, in which he offered a list of \"working class priorities\" that Democrats should fight for. In it, he acknowledged some positive changes achieved by Biden but said that they were \"almost never discussed within the context of a grossly unfair economy that continues to fail ordinary Americans\" and did not address the anger of the working class. Senator Chris Murphy (D-CT) believed that the Democrats could not connect to a large amount of voters, and should embrace populism going forward. Representative Ritchie Torres (D-NY), who represents the Bronx, said he wasn\\'t surprised by Harris\\' loss. Torres attributed Trump\\'s victory to public discontent over inflation and immigration, and believed that Harris ran an effective campaign, but could not overcome the difficult electoral environment. Representative Lloyd Doggett, who was the first sitting Democrat in Congress to openly call for President Joe Biden to withdraw from the presidential election after the first presidential debate, stated, \"I only regret I didn\\'t do it earlier. I think it\\'s unfortunate that he took three weeks to decide. I believe that the only person in our caucus who doesn\\'t share some responsibility for the outcome is Dean Phillips, who came out early. I accept responsibility as well that there\\'s more that we could have done.\" Former Republican president George W. Bush, who had declined to endorse either candidate, offered his congratulations to Trump and said that what he defined as a \"strong turnout\" in the election was a \"sign of the health of our republic and the strength of our democratic institutions\". Former president Barack Obama and his wife Michelle released a statement admitting their \"profound disagreements with the Republican ticket on a whole host of issues\", and lauded Harris and Walz\\'s efforts yet emphasized \"recognizing that our point of view won\\'t always win out, and being willing to accept the peaceful transfer of power\" concerning the incoming Trump administration. On November 6, the day after Trump\\'s victory, Harris publicly conceded her loss. Several reactions from governments, individuals, organizations, and multi-nation institutions around the world emerged for the re-election of Trump with, generally, most world governments congratulating Trump on his victory in the election. Wall Street\\'s main indexes reported record highs on the day after election night, with the Dow Jones Industrial Average up 3.57%, the S&P 500 up 2.53%, and Nasdaq up 2.95%. Elon Musk, a prominent Trump supporter and the CEO of Tesla, saw a nearly $20 billion increase in his fortune following a post-election surge in the company\\'s stock by 12% to a high of $288 per share. On the Friday after, November 8, Tesla\\'s shares surged more than 6%, bringing the company\\'s market cap to $1 trillion. Its growth started from $807.1 billion through Tuesday\\'s close, rallying a total of 27% during election week. By Friday, the stock was up about 26% year to date. Following Trump\\'s victory, some Harris supporters on X shared election denial conspiracy theories, claiming that millions of ballots were \"left uncounted\" and there being something \"not right\" with the election. Such posts falsely claiming Trump \"stole\" the election peaked at noon the day after at 94,000 posts per hour, with many receiving amplification and gaining over a million views each. According to Gordon Crovitz, the CEO of the media rating system NewsGuard, the phrase \"Trump cheated\" received 92,100 mentions on the platform from midnight until the Wednesday morning after. Besides the claims from Harris\\' supporters, some Trump supporters baselessly claimed the disparity between other years, the 2020 election, and a then-incomplete 2024 voting total indicated voter fraud in the 2020 election. One major \"basis\" these false claims were founded upon was a claim that Biden won 20 million more votes in his prior election bid than Harris had in hers, at the time. American journalist and conspiracy theorist Wayne Madsen commented on Threads: \"I\\'m beginning to believe our election was massively hacked just like happened a few weeks ago in the Republic of Georgia.\" At the time these fallacies were disseminated, votes were still being counted in many states. An estimate around the time using the Associated Press vote percentage total found that 16.2 million votes across twenty states and D.C. had yet to be counted. Statistical analysis of voting asserted that despite continued counting, the projections were already set and new ballots would not sway the outcomes of any of the states and D.C. The Cybersecurity and Infrastructure Security Agency director Jen Easterly refuted the false claims, and wrote in a statement that there was \"no evidence of any malicious activity that had a material impact on the security or integrity of our election infrastructure\". Another false claim alleges Musk used the satellite internet constellation Starlink to change the results of the election. Chief technology officer Chip Trowbridge of voting system manufacturer Clear Ballot dismissed the claim and added no machine used to scan voting ballots have any network connection whatsoever. Numerous Black Americans across multiple states reported receiving threatening, racist text messages the day after the election. Some of the texts referenced the incoming Trump administration but the sender remained unknown as of November 10, 2024. Days later, several Hispanic and LGBTQIA students also reported receiving similar harassment through text message and email. Harris\\' loss to Trump received substantial media analysis, ranging from years of inflation and an earlier immigration crisis, to the global incumbency backlash, to Biden\\'s exit seen as too late in the race, and the lack of an open primary, with Democrats and others arguing about what went wrong and how the party should move forward. According to Gallup, most factors with respect to the electoral environment favored Republicans and Trump. These included low confidence in the economy, Republicans outnumbering Democrats in party affiliation (48-45%), low national satisfaction, Republicans being favored to address the economy and immigration, and Biden\\'s low job approval rating. Harris was viewed more favorably on character and had an advantage on some issues. According to exit polls, voters disapproved of Biden\\'s performance 59-39%, and disapproved of how things were going in the United States 73-25%. Also, voters judged the economy negatively 68-32%, and said that inflation had caused them hardship 75-24%. A YouGov poll conducted from November 6–7, 2024 found that if Biden had been the Democratic nominee, Trump would have won the popular vote 49-42%. Nonpartisan election forecasters, including The Cook Political Report and Sabato\\'s Crystal Ball, stated before the election that Biden would have been almost certain to lose. Almost every incumbent party worldwide facing election in 2024 lost vote share, including in South Africa, India, France, the United Kingdom, and Japan. Among democracies, over 80 percent saw the incumbent party lose support compared to the last election. This is the first time this has ever happened since 1905 (when data was first recorded) and the first time in the history of democracy, as universal suffrage began in 1894. All 50 states and the District of Columbia shifted rightward compared to 2020. Trump\\'s gains in nearly all geographic areas and among nearly every demographic group provides strong evidence of anti-incumbent backlash. The shifts toward Trump were much less in the swing states where both campaigns focused compared to safe states. The two states with the largest shifts toward Trump, New York and New Jersey, were both won by Harris. Harris had very little room to fall in the swing states, given Biden in 2020 won Michigan by 2.8%, Nevada by 2.4%, Pennsylvania by 1.2%, Wisconsin by 0.6%, Arizona by 0.3%, Georgia by 0.23%, and lost North Carolina by 1.34%. Statistician and election analyst Nate Silver argued beforehand that the national electoral environment was difficult for Democrats to begin with, a sentiment also shared by The New York Times political analyst Nate Cohn. After the election, Silver felt that Harris was a replacement-level candidate who did much better than Biden would have, but was unable to separate herself from Biden\\'s record and was negatively perceived by swing voters due to her previous positions. Amy Walter, editor of the nonpartisan The Cook Political Report, also argued that the electoral environment was inherently difficult for Harris, because the top issue for voters was inflation during the Biden-Harris administration, for which Trump was viewed more favorably. Ronald Brownstein of The Atlantic, who spoke with members of Harris\\' campaign, argued that the extent of Biden\\'s unpopularity and public discontent with the economy proved too much for Harris to overcome. Brownstein compared the election to similar past elections, including the 1968 election, when the unpopular incumbent Lyndon B. Johnson withdrew and Vice President Hubert Humphrey lost to Richard Nixon, and the 1980 presidential election, when incumbent Jimmy Carter lost to Ronald Reagan due to stagflation and the 1970s energy crisis. Members of Harris\\' campaign stated after the election that their internal polling never showed Harris ahead of Trump, always either behind or tied with him, and they did not believe that Harris was the favorite to win the election. David Plouffe, a senior campaign advisor to Harris, claimed that even making the race competitive was a win for Harris\\' staff. The Independent\\'s Jon Sopel wrote that the most pressing issues that decided Harris\\' defeat were matters Biden had been perceived as a failure at by the American public; these included the fact that, as part of the global 2021–2023 inflation surge, inflation went up by 20% and real wages had not adjusted to match, and the state of the Mexico–United States border. Sopel said that by \"embracing the Biden agenda,  was simply tying herself to his unpopularity\". In a Time piece, Henry M. J. Tonks tied the result to the party\\'s prioritization of professional class workers and suburbs over working class, blue-collar voters. He argued the shift away from working-class voters had been occurring since the late 1960s in response to the Vietnam War and the growth of the tech industry. Of the electoral jurisdictions that Harris won – 19 states, DC, and Nebraska\\'s second congressional district – all except New Mexico had above-average educational attainment. One demographic Harris did better than Biden among was White women with college degrees (58-41% compared to 54-45%). Harris also narrowly lost White men with college degrees (48-50%) by the same as the popular vote. Harris lost major ground or did poorly among almost all other demographics, including young voters, Hispanic voters, Asian voters, and White voters without college degrees. Harris maintained very strong support among Black voters, winning Black women (92-7%) and Black men (77-21%). CNN\\'s Edward-Isaac Dovere felt that some problems, such as the problems with her staff, could have been solved, but other problems such as her ties with Biden could not have been solved. Dovere mused that had Biden stepped down earlier, the Democratic Party might have had the time to launch a proper primary campaign. He also mused that Walz was chosen because he could not \"outshine\" her, and that this reflected her \"newfound confidence and her long-standing insecurity\". The Economic Times cited surveys showing \"broad negative sentiment\" about the economy, and Harris being \"relentlessly hammered\" by Trump during campaigns about this. The Economic Times cited University of Richmond School of Law professor Carl Tobias\\'s appraisal of Trump\\'s stance on immigration winning over Harris\\', and mentioned how Trump had increased his support from Hispanics, especially near the Mexican–American border and in areas impacted by recent immigration. Harris campaigning at multiple events with former Republican representative Liz Cheney has been suggested as a contributing factor as to why she lost. Los Angeles Times\\'s Noah Bierman felt Harris could not overcome being the \"turn the page\" candidate, and cited former president Barack Obama\\'s lead strategist David Axelrod, who said: \"If you\\'re the vice president of an administration people want to fire, you\\'re way behind the eight-ball to start.\" Bierman wrote that besides criminal context, Trump \"never followed a script, scoffed at the rules and spoke directly to the economic and cultural anxieties of the country\". In The New York Times, Timothy Shenk argued that Democrats failed to articulate a vision for the future other than being against Trump and did not lean into a message of economic populism that polled best with swing voters but also that the election looked more like a rejection of Biden than the embrace of Trump. In another The New York Times article, Nate Cohn analyzed exit polls showing Trump\\'s gains among Non-White and young voters, suggesting Trump\\'s populist message resonated with many voters previously considered part of the Democratic Party\\'s base. Jen Psaki, who served as Biden\\'s first press secretary, suggested that Harris focusing on Anti-Trump Republicans was not a winning strategy. Charlie Cook, founder of the nonpartisan The Cook Political Report, said that swing voters broke in favor of Trump due to anger over inflation associated with the Biden-Harris administration, causing Trump to sweep the swing states. However, Democrats did better in down-ballot races, meaning Trump did not have a strong coattail effect. The Atlantic\\'s Ronald Brownstein argued that the Democratic Party\\'s success in the 2022 midterm elections, when Trump was not on the ballot, had led them to underestimate Trump\\'s support. Democrats also performed better than Harris in down-ballot races, suggesting voters likely assigned their blame over the economy on the Biden-Harris administration rather than the Democratic Party at-large. The BBC\\'s Courtney Subramanian said Harris \"couldn\\'t shake the anti-Biden sentiment that permeated much of the electorate\", that she \"failed to deliver a convincing argument about why she should lead the country\", did not state a strategy to combat economic frustrations, and failed to address widespread concerns over immigration. Vox\\'s Nicole Narea highlighted inflation outpacing wages in certain industries, rising unemployment, and rising consumer debt and falling savings as key economic indicators that Democrats \"may have missed\". In another Vox article, Andrew Prokop argued Harris suffered from a worldwide backlash to incumbents over inflation, as well as her struggles unifying the party over Gaza, failing to be a change candidate, and her difficulty in defending or abandoning positions she took during her 2020 presidential run. She suspended her campaign in December 2019, never giving her the experience of running in a nationwide election as a candidate. Although the economy had recovered by many conventional metrics (wages increased and inflation was in check) and border crossings had also declined significantly, Trump was ultimately able to successfully convince voters through his promises of fixing the economy and block the flow of immigrants at the border. According to exit polls, voters whose top issues were the economy and immigration largely voted for Trump. According to exit polls, Trump won voters making between $30,000 and $100,000, while Harris won voters making less than $30,000 or more than $100,000, though the margins among all income groups were in the single digits. Time\\'s Eric Cortellessa wrote that the thesis of Trump\\'s campaign boiled down to the simple slogan \"Max out the men and hold the women\", meaning emphasizing the economy and immigration, which Trump did \"relentlessly\". Cortellessa also mentioned Trump\\'s minimization of his numerous controversies, and push-offs of criminal trials via \"a combination of friendly judges and legal postponements\" to after the election. He said Trump\\'s \"advanced age and increasingly incoherent trail rhetoric\" were taken by voters in stride, and that \"much of the country read Trump\\'s legal woes as part of a larger corrupt conspiracy to deny him, and them, power\". NPR wrote that \"Americans have continued to chafe at higher than pre-pandemic prices and the lack of affordable housing\", and that much of the voter placed the blame \"squarely\" on the Biden administration. NPR said demographics played an important role, with White voters going up as a share of the electorate from 67% to 71% and Trump winning 46% of Latinos, and mentioned polling\\'s \"continued underestimation of Trump\\'s support nationally and in the key swing states\". The New York Times headlined how \" made one essential bet: that his grievances would become the grievances of the MAGA movement, and then the G.O.P., and then more than half the country. It paid off.\" The New York Times said that Trump\\'s several setbacks actually benefited his public image and approval, as \"his mug shot became a best-selling shirt. His criminal conviction inspired $100 million in donations in one day. The images of him bleeding after a failed assassination attempt became the symbol of what supporters saw as a campaign of destiny.\" NBC cited a Democratic strategist\\'s appraisal of many men\\'s concerns over feeling like \"they\\'re being left behind, that society doesn\\'t have a place for them\", and that this was a major factor in that demographic\\'s role to return Trump to power. The network said his approval among non-college-educated and middle-income voters, especially among Latinos and young men, made strides in his promise to assemble a multiracial working-class coalition of supporters. Trump increased his support from Hispanics, especially near the Mexican–American border and in areas impacted by recent immigration. Several observers pointed to shifting habits in how Americans consume media and a growing lack of trust in and influence of mainstream news outlets. Trump embraced alternative media through podcasts and online streamers such as Joe Rogan, Adin Ross, Theo Von, and the Nelk Boys. The New York Times reported that such avenues \"presented a way for Mr. Trump to sidestep more confrontational interviews with professional journalists, where he might face tough questions, fact-checks and detailed policy debates. The influencers he met with rarely challenged Mr. Trump, and often lavished him with praise.\" Observers also highlighted Trump\\'s courting of the \"manosphere\", a collection of what The Guardian described as \"male podcasters, influencers and public figures\" that \"marketed themselves as free-thinking pundits who evaded the bounds of political classification\". Post-election research showed that nearly 40% of young voters got their news from social media influencers, and despite claims of conservative censorship, a majority of influencers leaned right. The New York Times reported that Trump\\'s super PAC had joined a long list of presidential campaigns that made a \"technological leap or innovation\" while targeting key voters. The Times highlighted the use of targeted advertising of individual undecided voters on streaming video platforms that allowed it to save money, while Harris largely targeted ads on streaming platforms by geography. It reported the Trump team\\'s findings that the undecided electorate was younger, black, and Hispanic, and that such voters largely used streaming media over traditional broadcast television.'"
      ]
     },
     "execution_count": 5,
     "metadata": {},
     "output_type": "execute_result"
    }
   ],
   "source": [
    "text"
   ]
  },
  {
   "cell_type": "code",
   "execution_count": 14,
   "id": "8ce8a0f5-4eb0-4812-9e49-3318b1690917",
   "metadata": {},
   "outputs": [],
   "source": [
    "response = ollama.chat(\n",
    "    model='llama3.2:3b',\n",
    "    messages=[{'role':'system',\n",
    "              'content':'You are amazing in summarizing texts'},\n",
    "             {'role':'user',\n",
    "             'content':f'Summarize this text for me: {text}'}],\n",
    "                options = {'temperature':1, 'num_predict':2024})\n",
    "res = response['message']['content']"
   ]
  },
  {
   "cell_type": "code",
   "execution_count": 15,
   "id": "34bf75af-4d70-4418-b619-966d809ccf3d",
   "metadata": {},
   "outputs": [
    {
     "name": "stdout",
     "output_type": "stream",
     "text": [
      "Kamala Harris' 2020 presidential campaign faced significant challenges in the United States, ultimately leading to her decision to suspend her campaign in December 2019. The main reasons for her suspension were:\n",
      "\n",
      "1. Lack of momentum: Harris struggled to gain traction and build a strong coalition behind her.\n",
      "2. Insufficient funding: Despite receiving significant financial backing from donors and PACs, her campaign faced persistent fundraising challenges.\n",
      "3. Negative media coverage: Harris received intense scrutiny and criticism from the media, which often focused on her past positions and policy proposals.\n",
      "4. Internal party divisions: The Democratic Party was divided over issues like Medicare for All, climate change, and gun control, making it difficult for Harris to find common ground with other candidates.\n",
      "\n",
      "According to exit polls, voters who prioritized economic concerns (inflation, wages, etc.) largely voted for Joe Biden. Meanwhile, voters concerned about immigration largely backed Donald Trump. \n",
      "\n",
      "The campaign highlighted several key factors that contributed to these results:\n",
      "\n",
      "1. Economic anxiety: Americans' feelings of being left behind and concerns about the economy were a major factor in the election.\n",
      "2. Shifts in media consumption: The rise of social media influencers and alternative media outlets allowed Trump to bypass traditional news sources and connect directly with his supporters.\n",
      "3. Lack of trust in mainstream media: A growing distrust of established news organizations contributed to the rise of alternative media and social media influencers who were perceived as more relatable and authentic by some voters.\n",
      "4. Immigration concerns: The issue of immigration, particularly border security and deportation policies, was a significant concern for many voters, especially those in the Hispanic community.\n",
      "5. Personal characteristics: Trump's personal traits, such as his confidence and conviction, seemed to resonate with many voters who were attracted to his unconventional style.\n",
      "\n",
      "These factors highlight the complex and multifaceted nature of the 2020 presidential election, where a range of issues and demographic groups played important roles in shaping voter preferences.\n"
     ]
    }
   ],
   "source": [
    "print(res)"
   ]
  },
  {
   "cell_type": "markdown",
   "id": "af5060fd-44cd-4f2e-a9cf-d536ae1baf9d",
   "metadata": {},
   "source": [
    "#### Let's conduct a cool simulation (This is not perfect for sure, you can change it and make ir better)"
   ]
  },
  {
   "cell_type": "code",
   "execution_count": 24,
   "id": "6015396e-d517-4829-9c3c-3d2454f425df",
   "metadata": {},
   "outputs": [
    {
     "name": "stdout",
     "output_type": "stream",
     "text": [
      "1\n",
      "2\n",
      "3\n",
      "4\n",
      "4\n",
      "4\n",
      "5\n",
      "5\n",
      "5\n",
      "6\n",
      "6\n",
      "7\n",
      "7\n",
      "8\n",
      "8\n",
      "8\n",
      "8\n",
      "9\n",
      "9\n",
      "10\n"
     ]
    }
   ],
   "source": [
    "sim_prices = []\n",
    "i = 0\n",
    "while i<3:\n",
    "    response = ollama.chat(\n",
    "        model='llama3.2:3b',\n",
    "        messages=[{'role':'user',\n",
    "                 'content':'Assume we have 100 customers. We ask each of them how much they are willing to pay for a soda and they tell us a number up to 2 decimal. Give me those 100 numbers.Your output should be only 100 numbers'}],\n",
    "                 options = {'temperature':1, 'num_predict':1024})\n",
    "    res = response['message']['content']    \n",
    "    prices = re.findall(r'\\$(\\d+\\.\\d+)', res)\n",
    "    prices = list(map(lambda x: float(x), prices))\n",
    "    mean_p = np.mean(prices)\n",
    "    if pd.isnull(mean_p):\n",
    "        pass\n",
    "    else: \n",
    "        sim_prices.append(np.mean(prices))\n",
    "        i+=1\n",
    "    print(i)"
   ]
  },
  {
   "cell_type": "code",
   "execution_count": 25,
   "id": "5ac14228-6b23-4704-a040-1d40e58039d4",
   "metadata": {},
   "outputs": [
    {
     "data": {
      "text/plain": [
       "<Axes: ylabel='Frequency'>"
      ]
     },
     "execution_count": 25,
     "metadata": {},
     "output_type": "execute_result"
    },
    {
     "data": {
      "image/png": "[encoded data removed]",
      "text/plain": [
       "<Figure size 640x480 with 1 Axes>"
      ]
     },
     "metadata": {},
     "output_type": "display_data"
    }
   ],
   "source": [
    "pd.Series(sim_prices).plot(kind='hist')"
   ]
  },
  {
   "cell_type": "markdown",
   "id": "05ff9e14-0bf4-437b-8ac6-24f0edfd1ca9",
   "metadata": {},
   "source": [
    "### Finally, lets talk with pictures!!! (You can restart your kernel if it takes a lot of time)"
   ]
  },
  {
   "cell_type": "code",
   "execution_count": 26,
   "id": "8c8810ed",
   "metadata": {},
   "outputs": [
    {
     "name": "stderr",
     "output_type": "stream",
     "text": [
      "\u001b[?25lpulling manifest â ‹ \u001b[?25h\u001b[?25l\u001b[2K\u001b[1Gpulling manifest â ™ \u001b[?25h\u001b[?25l\u001b[2K\u001b[1Gpulling manifest â ¹ \u001b[?25h\u001b[?25l\u001b[2K\u001b[1Gpulling manifest â ¸ \u001b[?25h\u001b[?25l\u001b[2K\u001b[1Gpulling manifest \n",
      "pulling 11f274007f09... 100% â–•â–ˆâ–ˆâ–ˆâ–ˆâ–ˆâ–ˆâ–ˆâ–ˆâ–ˆâ–ˆâ–ˆâ–ˆâ–ˆâ–ˆâ–ˆâ–ˆâ–� 6.0 GB                         \n",
      "pulling ece5e659647a... 100% â–•â–ˆâ–ˆâ–ˆâ–ˆâ–ˆâ–ˆâ–ˆâ–ˆâ–ˆâ–ˆâ–ˆâ–ˆâ–ˆâ–ˆâ–ˆâ–ˆâ–� 1.9 GB                         \n",
      "pulling 715415638c9c... 100% â–•â–ˆâ–ˆâ–ˆâ–ˆâ–ˆâ–ˆâ–ˆâ–ˆâ–ˆâ–ˆâ–ˆâ–ˆâ–ˆâ–ˆâ–ˆâ–ˆâ–�  269 B                         \n",
      "pulling 0b4284c1f870... 100% â–•â–ˆâ–ˆâ–ˆâ–ˆâ–ˆâ–ˆâ–ˆâ–ˆâ–ˆâ–ˆâ–ˆâ–ˆâ–ˆâ–ˆâ–ˆâ–ˆâ–� 7.7 KB                         \n",
      "pulling fefc914e46e6... 100% â–•â–ˆâ–ˆâ–ˆâ–ˆâ–ˆâ–ˆâ–ˆâ–ˆâ–ˆâ–ˆâ–ˆâ–ˆâ–ˆâ–ˆâ–ˆâ–ˆâ–�   32 B                         \n",
      "pulling fbd313562bb7... 100% â–•â–ˆâ–ˆâ–ˆâ–ˆâ–ˆâ–ˆâ–ˆâ–ˆâ–ˆâ–ˆâ–ˆâ–ˆâ–ˆâ–ˆâ–ˆâ–ˆâ–�  572 B                         \n",
      "verifying sha256 digest \n",
      "writing manifest \n",
      "success \u001b[?25h\n"
     ]
    }
   ],
   "source": [
    "!ollama pull llama3.2-vision:latest"
   ]
  },
  {
   "cell_type": "code",
   "execution_count": null,
   "id": "35e1ab04-4d0f-49de-8437-90da5b1fe22a",
   "metadata": {},
   "outputs": [],
   "source": [
    "import ollama\n",
    "\n",
    "response = ollama.chat(\n",
    "    model='llama3.2-vision',\n",
    "    messages=[{\n",
    "        'role': 'user',\n",
    "        'content': 'What is in this image?',\n",
    "        'images': [r'C:\\Users\\manso\\Desktop\\pizza.jpg']}],\n",
    "        options = {'temperature':0, 'num_predict':1024}\n",
    ")"
   ]
  },
  {
   "cell_type": "code",
   "execution_count": null,
   "id": "fb3f3a20-157b-4f58-a37b-a39920d74144",
   "metadata": {},
   "outputs": [],
   "source": [
    "print(response['message']['content'])"
   ]
  },
  {
   "cell_type": "markdown",
   "id": "6339383a-2022-49c4-80a3-77d876ee2d8a",
   "metadata": {},
   "source": [
    "#### We can also use llms to label our data"
   ]
  },
  {
   "cell_type": "code",
   "execution_count": 3,
   "id": "e18af2be-f7a3-4a50-b5cb-b0aaf9055526",
   "metadata": {},
   "outputs": [],
   "source": [
    "import ollama\n",
    "\n",
    "response = ollama.chat(\n",
    "    model='llama3.2-vision',\n",
    "    messages=[{\n",
    "        'role': 'user',\n",
    "        'content': 'Classify the image to edible or nonedible. Your output should be like: 1 for edible or 0 nonedible',\n",
    "        'images': [r'C:\\Users\\manso\\Desktop\\pizza.jpg']}],\n",
    "        options = {'temperature':0, 'num_predict':10}\n",
    ")"
   ]
  },
  {
   "cell_type": "code",
   "execution_count": 4,
   "id": "22ef1141-2ebe-4ff6-a36c-6ba72c511faa",
   "metadata": {},
   "outputs": [
    {
     "name": "stdout",
     "output_type": "stream",
     "text": [
      "1\n"
     ]
    }
   ],
   "source": [
    "print(response['message']['content'])"
   ]
  },
  {
   "cell_type": "markdown",
   "id": "b9cde2a1",
   "metadata": {},
   "source": [
    "#### Using LM Studio"
   ]
  },
  {
   "cell_type": "code",
   "execution_count": 13,
   "id": "df45a56f",
   "metadata": {},
   "outputs": [],
   "source": [
    "from openai import OpenAI\n",
    "client = OpenAI(base_url='http://localhost:1234/v1', api_key='fake-key')"
   ]
  },
  {
   "cell_type": "code",
   "execution_count": 14,
   "id": "a2bdf5ee",
   "metadata": {},
   "outputs": [
    {
     "data": {
      "text/plain": [
       "SyncPage[Model](data=[Model(id='deepseek-r1-distill-llama-8b', created=None, object='model', owned_by='organization_owner')], object='list')"
      ]
     },
     "execution_count": 14,
     "metadata": {},
     "output_type": "execute_result"
    }
   ],
   "source": [
    "client.models.list()"
   ]
  },
  {
   "cell_type": "code",
   "execution_count": 10,
   "id": "5ba13a83",
   "metadata": {},
   "outputs": [],
   "source": [
    "import base64\n",
    "import requests\n",
    "from PIL import Image\n",
    "import io\n",
    "\n",
    "\n",
    "def encode_image(image_path):\n",
    "    image = Image.open(image_path)\n",
    "    image_rgb = image.convert(\"RGB\")\n",
    "    img_byte_arr = io.BytesIO()\n",
    "    image_rgb.save(img_byte_arr, format=\"JPEG\")\n",
    "    image_bytes = img_byte_arr.getvalue()\n",
    "    base64_image = base64.b64encode(image_bytes).decode(\"utf-8\")\n",
    "    return base64_image"
   ]
  },
  {
   "cell_type": "code",
   "execution_count": 11,
   "id": "b1282d76",
   "metadata": {},
   "outputs": [],
   "source": [
    "image_path = r\"C:\\Users\\manso\\Desktop\\pizza.jpg\""
   ]
  },
  {
   "cell_type": "code",
   "execution_count": 12,
   "id": "6b0e19c1",
   "metadata": {},
   "outputs": [],
   "source": [
    "base64_image = encode_image(image_path)"
   ]
  },
  {
   "cell_type": "code",
   "execution_count": 6,
   "id": "5b8f3884",
   "metadata": {},
   "outputs": [],
   "source": [
    "completion = client.chat.completions.create(\n",
    "  model=\"eris_primev4.69-vision-32k-7b-imatrix\", \n",
    "  temperature=1, \n",
    "      messages=[{\"role\": \"user\", \"content\": [{\"type\": \"text\", \"text\": \"I will give you one image and you should categorize it as edible or nonedible. For example, an image of apple is edible but an image of chair is nonedible\"}, {\"type\": \"image_url\",\"image_url\": {\"url\": f\"data:image/jpeg;base64,{base64_image}\"}}]}],\n",
    "  max_tokens=1024\n",
    ")"
   ]
  },
  {
   "cell_type": "code",
   "execution_count": 7,
   "id": "20d077e4",
   "metadata": {},
   "outputs": [
    {
     "name": "stdout",
     "output_type": "stream",
     "text": [
      "The image provided appears to be a slice of pizza with some tomato sauce on a cutting board next to two other slices of pizza. The toppings include tomatoes and what appear to be black olives and possibly pepperoni or salami, all of which are edible ingredients for pizza. Therefore, the answer is edible.\n"
     ]
    }
   ],
   "source": [
    "print(completion.choices[0].message.content)"
   ]
  },
  {
   "cell_type": "code",
   "execution_count": 15,
   "id": "9a71e395",
   "metadata": {},
   "outputs": [],
   "source": [
    "response =  client.chat.completions.create(\n",
    "model='deepseek-r1-distill-llama-8b',\n",
    "messages=[{'role': 'user', 'content': 'Why marketing is interesting?'}],\n",
    "temperature = 0.8)"
   ]
  },
  {
   "cell_type": "code",
   "execution_count": 16,
   "id": "c6f3c25b",
   "metadata": {},
   "outputs": [
    {
     "name": "stdout",
     "output_type": "stream",
     "text": [
      "<think>\n",
      "Okay, so I need to figure out why marketing is interesting. Hmm, where do I even start? Well, I know that marketing is something companies do to sell products or services, but I'm not entirely sure about all the aspects involved. Let me think.\n",
      "\n",
      "First off, maybe it's because marketing involves understanding people. Like, if a company wants to sell something, they need to know what their target audience likes, needs, or wants. That sounds like psychology mixed with business. So, maybe marketing is interesting because it combines these elements?\n",
      "\n",
      "Then there's the creative side. I remember seeing ads that are really clever or emotional, which make me feel something. Like those heartfelt commercials during the holidays. So, if marketing is creating messages that can evoke emotions, that must be part of what makes it interesting.\n",
      "\n",
      "I also think about how marketing shapes trends. For example, certain brands become popular because of effective marketing campaigns. It's like a cycle where companies influence consumers and then consumers influence each other through their choices. That seems like a unique dynamic to explore.\n",
      "\n",
      "Another point is the technical side of marketing. With digital marketing, there are so many tools and platforms. SEO, social media management, email campaigns—each requires different skills. It must be interesting because it involves constantly learning new technologies and strategies as they evolve.\n",
      "\n",
      "Globalization also comes into play. Marketing strategies have to adapt when companies go international. They need to consider cultural differences, languages, and local preferences. That sounds complex but also fascinating because it involves navigating diverse markets.\n",
      "\n",
      "I wonder about the part where marketing creates demand. Even if a product exists, marketing can make people want or need it. That's kind of powerful. It's like creating a need where there wasn't one before, which must be an intriguing concept.\n",
      "\n",
      "Oh, and the measurement aspect. Marketers use data to assess what works and what doesn't. With analytics, they can see the impact of their campaigns and adjust accordingly. It combines creativity with data analysis, making it both art and science.\n",
      "\n",
      "I'm also thinking about the challenges in marketing. There's so much competition, consumer behavior changes rapidly, and there are ethical considerations like truthful advertising. These challenges must keep marketers on their toes, making the field dynamic.\n",
      "\n",
      "Lastly, personal growth seems to be a part of it too. Marketers get to develop skills across various areas—like writing, design, communication—which can be valuable in many careers. It's a skill set that's in high demand, which makes it appealing.\n",
      "\n",
      "Putting this all together, marketing is interesting because it's multifaceted—it involves understanding people, being creative, shaping trends, using technology, working globally, creating demand, measuring impact, facing challenges, and offering opportunities for personal growth. Each of these elements contributes to making marketing a complex and compelling field.\n",
      "</think>\n",
      "\n",
      "Marketing is an intriguing field due to its multifaceted nature, encompassing several key aspects:\n",
      "\n",
      "1. **Understanding People**: Marketing delves into consumer psychology, understanding the needs, desires, and behaviors of target audiences, blending psychology with business strategy.\n",
      "\n",
      "2. **Creativity and Emotion**: It involves creating messages that evoke emotions, using storytelling and emotional appeals to connect with consumers on a deeper level.\n",
      "\n",
      "3. **Shaping Trends**: Marketing plays a role in influencing consumer trends, where brands can drive popularity and consumers can influence each other through their choices.\n",
      "\n",
      "4. **Technical Innovation**: The field is constantly evolving with digital marketing tools and platforms, requiring ongoing learning and adaptation of new technologies and strategies.\n",
      "\n",
      "5. **Globalization Complexity**: Marketers must adapt strategies to diverse markets by considering cultural differences and local preferences, adding layers of complexity.\n",
      "\n",
      "6. **Creating Demand**: Marketing can create a need for products through effective communication, influencing consumer behavior in powerful ways.\n",
      "\n",
      "7. **Data Analysis and Measurement**: It combines creativity with analytics, using data to assess campaign effectiveness and adjust strategies accordingly.\n",
      "\n",
      "8. **Challenges and Ethics**: The field is dynamic due to competition, rapid consumer changes, and ethical considerations like truthful advertising, which keep marketers engaged and adaptable.\n",
      "\n",
      "9. **Personal Growth Opportunities**: Marketers develop versatile skills in areas like writing and design, making them valuable in various careers and industries.\n",
      "\n",
      "In summary, marketing's complexity, creativity, and impact across various dimensions make it a compelling and dynamic field.\n"
     ]
    }
   ],
   "source": [
    "print(response.choices[0].message.content)"
   ]
  },
  {
   "cell_type": "code",
   "execution_count": null,
   "id": "d35098b2",
   "metadata": {},
   "outputs": [],
   "source": []
  }
 ],
 "metadata": {
  "kernelspec": {
   "display_name": "Python 3 (ipykernel)",
   "language": "python",
   "name": "python3"
  },
  "language_info": {
   "codemirror_mode": {
    "name": "ipython",
    "version": 3
   },
   "file_extension": ".py",
   "mimetype": "text/x-python",
   "name": "python",
   "nbconvert_exporter": "python",
   "pygments_lexer": "ipython3",
   "version": "3.11.5"
  }
 },
 "nbformat": 4,
 "nbformat_minor": 5
}
